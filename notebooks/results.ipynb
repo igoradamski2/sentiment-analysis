{
 "cells": [
  {
   "cell_type": "code",
   "execution_count": 1,
   "metadata": {
    "collapsed": true
   },
   "outputs": [],
   "source": [
    "from utilities import *\n",
    "from model import *\n",
    "from metrics import Metrics\n",
    "import numpy as np\n",
    "from gensim.models.doc2vec import Doc2Vec, TaggedDocument\n",
    "import gensim\n",
    "from tqdm import tqdm\n",
    "import time\n",
    "import multiprocessing\n",
    "from sklearn import svm\n",
    "from gensim.test.utils import get_tmpfile\n",
    "from sklearn.manifold import TSNE\n",
    "import matplotlib.pyplot as plt\n",
    "from mpl_toolkits.mplot3d import Axes3D\n",
    "from scipy.sparse import csr_matrix as sparse\n",
    "from os import listdir\n",
    "from os.path import isfile, join"
   ]
  },
  {
   "cell_type": "markdown",
   "metadata": {},
   "source": [
    "# Prepare data\n"
   ]
  },
  {
   "cell_type": "code",
   "execution_count": 2,
   "metadata": {},
   "outputs": [
    {
     "name": "stderr",
     "output_type": "stream",
     "text": [
      "100%|██████████| 2000/2000 [00:01<00:00, 1828.01it/s]\n"
     ]
    }
   ],
   "source": [
    "file_dir_our      = \"/Users/igoradamski/Documents/cambridge/MLMI/nlp/coursework/nlp/data\"\n",
    "our_data      = DataHandler(file_dir_our)\n",
    "our_data.readOurData()\n",
    "\n",
    "train, test   = our_data.blind_test()\n",
    "\n",
    "cv_train      = DataHandler()\n",
    "cv_train(train.x_train, train.y_train)\n",
    "\n",
    "blind_test = DataHandler()\n",
    "blind_test(test.x_train, test.y_train)"
   ]
  },
  {
   "cell_type": "markdown",
   "metadata": {},
   "source": [
    "# Train several NB models"
   ]
  },
  {
   "cell_type": "code",
   "execution_count": 12,
   "metadata": {},
   "outputs": [
    {
     "name": "stderr",
     "output_type": "stream",
     "text": [
      "100%|██████████| 10/10 [01:11<00:00,  7.16s/it]\n",
      "100%|██████████| 10/10 [00:16<00:00,  1.63s/it]\n",
      "100%|██████████| 10/10 [00:20<00:00,  2.04s/it]\n",
      "100%|██████████| 10/10 [01:05<00:00,  6.53s/it]\n",
      "100%|██████████| 10/10 [00:48<00:00,  4.83s/it]\n",
      "100%|██████████| 10/10 [01:09<00:00,  7.00s/it]\n"
     ]
    }
   ],
   "source": [
    "accs = {}\n",
    "cv_train.roundRobinSplit(10)\n",
    "\n",
    "accs['N1'] = np.mean(np.array(Metrics.roundRobinCV(cv_train, 10, NBModel, threshold = [0,0], grams = ['uni', 'bi'], smoothing = 1.5)))\n",
    "accs['N2'] = np.mean(np.array(Metrics.roundRobinCV(cv_train, 10, NBModel, threshold = [0], grams = 'uni', smoothing = 1.5)))\n",
    "accs['N3'] = np.mean(np.array(Metrics.roundRobinCV(cv_train, 10, NBModel, threshold = [4], grams = 'uni', smoothing = 1.5)))\n",
    "accs['N4'] = np.mean(np.array(Metrics.roundRobinCV(cv_train, 10, NBModel, threshold = [0], grams = 'bi', smoothing = 1.5)))\n",
    "accs['N5'] = np.mean(np.array(Metrics.roundRobinCV(cv_train, 10, NBModel, threshold = [8], grams = 'bi', smoothing = 1.5)))\n",
    "accs['N6'] = np.mean(np.array(Metrics.roundRobinCV(cv_train, 10, NBModel, threshold = [4,8], grams = ['uni', 'bi'], smoothing = 1.5)))\n"
   ]
  },
  {
   "cell_type": "code",
   "execution_count": 13,
   "metadata": {},
   "outputs": [
    {
     "data": {
      "text/plain": [
       "{'N1': 0.8400000000000001,\n",
       " 'N2': 0.8222222222222222,\n",
       " 'N3': 0.8072222222222223,\n",
       " 'N4': 0.8461111111111113,\n",
       " 'N5': 0.635,\n",
       " 'N6': 0.7472222222222222}"
      ]
     },
     "execution_count": 13,
     "metadata": {},
     "output_type": "execute_result"
    }
   ],
   "source": [
    "accs"
   ]
  },
  {
   "cell_type": "markdown",
   "metadata": {},
   "source": [
    "# Train models\n"
   ]
  },
  {
   "cell_type": "code",
   "execution_count": 3,
   "metadata": {},
   "outputs": [
    {
     "name": "stdout",
     "output_type": "stream",
     "text": [
      "training M1...\n",
      "training M2...\n"
     ]
    },
    {
     "name": "stderr",
     "output_type": "stream",
     "text": [
      "100%|██████████| 1800/1800 [00:04<00:00, 413.03it/s]\n"
     ]
    },
    {
     "name": "stdout",
     "output_type": "stream",
     "text": [
      "training M3...\n",
      "training M4...\n",
      "training M5...\n"
     ]
    }
   ],
   "source": [
    "# M1\n",
    "print('training M1...')\n",
    "M1 = NBModel(threshold = [0,0], grams = ['uni', 'bi'], smoothing = 1.5)\n",
    "M1.train(cv_train.x_data, cv_train.y_data)\n",
    "\n",
    "\n",
    "# M2\n",
    "print('training M2...')\n",
    "bow2vec_model = BoW2Vec([4,4], ['uni', 'bi'])\n",
    "bow2vec_model.getFullVocab(cv_train)\n",
    "\n",
    "bow_vector_data = DataHandler()\n",
    "bow_vector_data(bow2vec_model.text2vec(cv_train), cv_train.y_data)\n",
    "bow_vector_data.x_data = sparse(bow_vector_data.x_data)\n",
    "\n",
    "M2 = MySVM(kernel = 'linear', decision_function_shape='ovr', break_ties = True, random_state = 1234)\n",
    "M2.train(bow_vector_data.x_data, bow_vector_data.y_data)\n",
    "\n",
    "# M3\n",
    "print('training M3...')\n",
    "M3 = MySVM(kernel = 'rbf', gamma = 'scale', decision_function_shape='ovr', break_ties = True, random_state = 1234)\n",
    "M3.train(bow_vector_data.x_data, bow_vector_data.y_data)\n",
    "\n",
    "# M4\n",
    "print('training M4...')\n",
    "model_path = '/Users/igoradamski/Documents/cambridge/MLMI/nlp/coursework/nlp/doc2vec_models/'\n",
    "model_name = 'model_dm=0,hs=1,min_count=10,vector_size=50,window=5.bin'\n",
    "\n",
    "doc2vec_model = MyDoc2Vec()\n",
    "doc2vec_model.load(model_path+model_name)\n",
    "\n",
    "d2v_vector_data = DataHandler()\n",
    "d2v_vector_data(DataHandler.applyDoc2Vec(cv_train.x_data, doc2vec_model.model), cv_train.y_data)\n",
    "\n",
    "M4 = MySVM(kernel = 'linear', decision_function_shape='ovr', break_ties = True, random_state = 1234)\n",
    "M4.train(d2v_vector_data.x_data, d2v_vector_data.y_data)\n",
    "\n",
    "# M5\n",
    "print('training M5...')\n",
    "M5 = MySVM(kernel = 'rbf', gamma = 'scale', decision_function_shape='ovr', break_ties = True, random_state = 1234)\n",
    "M5.train(d2v_vector_data.x_data, d2v_vector_data.y_data)"
   ]
  },
  {
   "cell_type": "markdown",
   "metadata": {},
   "source": [
    "# Evaluate accuracy on test set\n"
   ]
  },
  {
   "cell_type": "code",
   "execution_count": 5,
   "metadata": {},
   "outputs": [
    {
     "name": "stderr",
     "output_type": "stream",
     "text": [
      "100%|██████████| 200/200 [00:00<00:00, 463.93it/s]\n"
     ]
    }
   ],
   "source": [
    "np.random.seed(2313)\n",
    "accuracy = {}\n",
    "d2v_vector_test = DataHandler()\n",
    "d2v_vector_test(DataHandler.applyDoc2Vec(blind_test.x_data, doc2vec_model.model), blind_test.y_data)\n",
    "\n",
    "bow_vector_test = DataHandler()\n",
    "bow_vector_test(bow2vec_model.text2vec(blind_test), blind_test.y_data)\n",
    "\n",
    "# Evaluate\n",
    "predictions_m1 = M1.predict(blind_test.x_data)\n",
    "predictions_m2 = M2.predict(bow_vector_test.x_data)\n",
    "predictions_m3 = M3.predict(bow_vector_test.x_data)\n",
    "predictions_m4 = M4.predict(d2v_vector_test.x_data)\n",
    "predictions_m5 = M5.predict(d2v_vector_test.x_data)\n",
    "\n",
    "# Get accuracies\n",
    "accuracy['M1'] = Metrics.getAccuracy(predictions_m1, blind_test.y_data)\n",
    "accuracy['M2'] = Metrics.getAccuracy(predictions_m2, blind_test.y_data)\n",
    "accuracy['M3'] = Metrics.getAccuracy(predictions_m3, blind_test.y_data)\n",
    "accuracy['M4'] = Metrics.getAccuracy(predictions_m4, blind_test.y_data)\n",
    "accuracy['M5'] = Metrics.getAccuracy(predictions_m5, blind_test.y_data)\n",
    "\n",
    "# Get significance with sign test\n",
    "sign_test_sgn = np.zeros((5,5))\n",
    "for i, pred_i in enumerate([predictions_m1, predictions_m2, predictions_m3, predictions_m4, predictions_m5]):\n",
    "    for j, pred_j in enumerate([predictions_m1, predictions_m2, predictions_m3, predictions_m4, predictions_m5]):\n",
    "        if i <= j:\n",
    "            sign_test_sgn[i,j] = Metrics.signTest(pred_i, pred_j, blind_test.y_data)\n",
    "        \n",
    "# Get significance with permutation test\n",
    "perm_test_sgn = np.zeros((5,5))\n",
    "for i, pred_i in enumerate([predictions_m1, predictions_m2, predictions_m3, predictions_m4, predictions_m5]):\n",
    "    for j, pred_j in enumerate([predictions_m1, predictions_m2, predictions_m3, predictions_m4, predictions_m5]):\n",
    "        if i <= j:\n",
    "            perm_test_sgn[i,j] = Metrics.permutationTest(pred_i, pred_j, blind_test.y_data, 5000)\n",
    "\n"
   ]
  },
  {
   "cell_type": "code",
   "execution_count": 9,
   "metadata": {},
   "outputs": [
    {
     "data": {
      "text/plain": [
       "200"
      ]
     },
     "execution_count": 9,
     "metadata": {},
     "output_type": "execute_result"
    }
   ],
   "source": [
    "len(blind_test.y_data)"
   ]
  },
  {
   "cell_type": "code",
   "execution_count": 6,
   "metadata": {},
   "outputs": [
    {
     "data": {
      "text/plain": [
       "{'M1': 0.785, 'M2': 0.81, 'M3': 0.755, 'M4': 0.82, 'M5': 0.83}"
      ]
     },
     "execution_count": 6,
     "metadata": {},
     "output_type": "execute_result"
    }
   ],
   "source": [
    "accuracy"
   ]
  },
  {
   "cell_type": "code",
   "execution_count": 7,
   "metadata": {},
   "outputs": [
    {
     "data": {
      "text/plain": [
       "array([[0.11269696, 0.10567072, 0.1030421 , 0.09957434, 0.09198772],\n",
       "       [0.        , 0.11269696, 0.08330963, 0.11158115, 0.10829935],\n",
       "       [0.        , 0.        , 0.11269696, 0.0739665 , 0.06437825],\n",
       "       [0.        , 0.        , 0.        , 0.11269696, 0.11158115],\n",
       "       [0.        , 0.        , 0.        , 0.        , 0.11269696]])"
      ]
     },
     "execution_count": 7,
     "metadata": {},
     "output_type": "execute_result"
    }
   ],
   "source": [
    "sign_test_sgn"
   ]
  },
  {
   "cell_type": "code",
   "execution_count": 8,
   "metadata": {},
   "outputs": [
    {
     "data": {
      "text/plain": [
       "array([[1.    , 0.5417, 0.4325, 0.3547, 0.203 ],\n",
       "       [0.    , 1.    , 0.059 , 0.8838, 0.6573],\n",
       "       [0.    , 0.    , 1.    , 0.0918, 0.0392],\n",
       "       [0.    , 0.    , 0.    , 1.    , 0.7267],\n",
       "       [0.    , 0.    , 0.    , 0.    , 1.    ]])"
      ]
     },
     "execution_count": 8,
     "metadata": {},
     "output_type": "execute_result"
    }
   ],
   "source": [
    "np.set_printoptions(precision=4)\n",
    "np.set_printoptions(suppress=True)\n",
    "perm_test_sgn"
   ]
  },
  {
   "cell_type": "markdown",
   "metadata": {},
   "source": [
    "# Error analysis"
   ]
  },
  {
   "cell_type": "code",
   "execution_count": 59,
   "metadata": {
    "collapsed": true
   },
   "outputs": [],
   "source": [
    "errors_m1 = [int(predictions_m1[idx] != blind_test.y_data[idx]) for idx in range(len(predictions_m1))]\n",
    "errors_m2 = [int(predictions_m2[idx] != blind_test.y_data[idx]) for idx in range(len(predictions_m2))]\n",
    "errors_m3 = [int(predictions_m3[idx] != blind_test.y_data[idx]) for idx in range(len(predictions_m3))]\n",
    "errors_m4 = [int(predictions_m4[idx] != blind_test.y_data[idx]) for idx in range(len(predictions_m4))]\n",
    "errors_m5 = [int(predictions_m5[idx] != blind_test.y_data[idx]) for idx in range(len(predictions_m5))]"
   ]
  },
  {
   "cell_type": "code",
   "execution_count": 80,
   "metadata": {},
   "outputs": [
    {
     "data": {
      "text/plain": [
       "array([0, 2, 0, 1, 1, 0, 2, 0, 0, 2, 1, 1, 2, 0, 0, 0, 1, 1, 0, 1, 1, 0,\n",
       "       0, 1, 1, 0, 1, 0, 0, 0, 0, 0, 0, 0, 1, 0, 0, 0, 0, 0, 2, 0, 0, 1,\n",
       "       0, 0, 0, 0, 2, 0, 0, 0, 0, 0, 1, 0, 0, 1, 2, 0, 2, 1, 0, 0, 1, 0,\n",
       "       0, 0, 0, 0, 1, 0, 0, 0, 1, 0, 1, 0, 0, 0, 0, 1, 0, 0, 1, 0, 0, 0,\n",
       "       1, 0, 1, 0, 0, 0, 0, 0, 1, 0, 0, 0, 2, 0, 0, 0, 2, 2, 0, 0, 2, 0,\n",
       "       0, 1, 0, 0, 0, 0, 0, 2, 0, 0, 1, 0, 0, 1, 0, 0, 1, 0, 1, 0, 0, 0,\n",
       "       0, 0, 2, 0, 0, 2, 1, 0, 2, 0, 2, 1, 0, 0, 1, 0, 1, 0, 1, 0, 0, 0,\n",
       "       0, 1, 0, 1, 1, 1, 0, 0, 0, 0, 0, 0, 1, 0, 0, 0, 1, 0, 0, 0, 2, 0,\n",
       "       1, 0, 0, 2, 0, 0, 0, 0, 0, 0, 0, 0, 0, 0, 0, 0, 0, 0, 0, 0, 0, 1,\n",
       "       0, 0])"
      ]
     },
     "execution_count": 80,
     "metadata": {},
     "output_type": "execute_result"
    }
   ],
   "source": [
    "np.array(errors_m1)+np.array(errors_m2)"
   ]
  },
  {
   "cell_type": "code",
   "execution_count": 81,
   "metadata": {
    "collapsed": true
   },
   "outputs": [],
   "source": [
    "# Find common errors\n",
    "comm_err = np.array(errors_m1)+np.array(errors_m2)+np.array(errors_m3)+np.array(errors_m4)+np.array(errors_m5)"
   ]
  },
  {
   "cell_type": "code",
   "execution_count": 84,
   "metadata": {
    "collapsed": true
   },
   "outputs": [],
   "source": [
    "all_errors = [' '.join(str(elem) for elem in test.x_train[idx]) for idx in comm_err if idx > 0]"
   ]
  },
  {
   "cell_type": "code",
   "execution_count": 102,
   "metadata": {
    "collapsed": true
   },
   "outputs": [],
   "source": [
    "all_5_errors = [str(test.y_train[idx]) + str(':::') + ' '.join(str(elem) for elem in test.x_train[idx]) for idx, val in enumerate(comm_err) if val == 5]\n",
    "all_4_errors = [str(test.y_train[idx]) + str(':::') + ' '.join(str(elem) for elem in test.x_train[idx]) for idx, val in enumerate(comm_err) if val == 4]"
   ]
  },
  {
   "cell_type": "code",
   "execution_count": 103,
   "metadata": {},
   "outputs": [
    {
     "data": {
      "text/plain": [
       "array([0, 4, 0, 1, 1, 0, 4, 0, 0, 4, 2, 1, 5, 0, 1, 0, 1, 2, 0, 2, 4, 0,\n",
       "       1, 4, 3, 0, 1, 0, 0, 0, 0, 0, 2, 2, 1, 0, 0, 2, 0, 0, 5, 0, 0, 1,\n",
       "       0, 0, 0, 0, 5, 0, 0, 0, 0, 2, 1, 0, 0, 4, 3, 0, 2, 2, 1, 0, 1, 2,\n",
       "       0, 0, 0, 0, 3, 0, 2, 0, 1, 2, 1, 0, 2, 0, 0, 2, 0, 0, 3, 0, 0, 0,\n",
       "       1, 0, 1, 0, 0, 0, 0, 1, 1, 0, 1, 0, 5, 2, 0, 0, 3, 5, 0, 0, 3, 0,\n",
       "       0, 2, 0, 0, 0, 0, 0, 3, 0, 0, 2, 3, 0, 2, 0, 0, 4, 1, 2, 0, 0, 0,\n",
       "       0, 0, 3, 0, 1, 5, 4, 1, 3, 0, 4, 2, 0, 0, 4, 0, 2, 0, 1, 0, 0, 0,\n",
       "       0, 4, 0, 1, 2, 2, 0, 0, 0, 0, 1, 0, 2, 1, 0, 0, 1, 0, 0, 0, 3, 0,\n",
       "       2, 0, 0, 5, 0, 0, 0, 0, 1, 0, 0, 0, 0, 2, 0, 0, 2, 0, 0, 0, 0, 1,\n",
       "       0, 0])"
      ]
     },
     "execution_count": 103,
     "metadata": {},
     "output_type": "execute_result"
    }
   ],
   "source": [
    "comm_err"
   ]
  },
  {
   "cell_type": "code",
   "execution_count": 107,
   "metadata": {},
   "outputs": [
    {
     "data": {
      "text/plain": [
       "['0:::best remembered for his understated performance as dr hannibal lecter in michael mann s forensics thriller manhunter scottish character actor brian cox brings something special to every movie he works on usually playing a bit role in some studio schlock he dies halfway through the long kiss goodnight he s only occasionally given something meaty and substantial to do if you want to see some brilliant acting check out his work as a dogged police inspector opposite frances mcdormand in ken loach s hidden agenda cox plays the role of big john harrigan in the disturbing new indie flick l i e which lotpicked up at sundance when other distributors were scared to budge big john feels the love that dares not speak its name but he expresses it through seeking out adolescents and bringing them back to his pad what bothered some audience members was the presentation of big john in an oddly empathetic light he s an even tempered funny robust old man who actually listens to the kids problems as opposed to their parents and friends both caught up in the high wire act of their own confused lives he ll have sex for pay with them only after an elaborate courtship charming them with temptations from the grown up world l i e stands for long island expressway which slices through the strip malls and middle class homes of suburbia filmmaker michael cuesta uses it as a pretty transparent metaphor of dangerous escape for his 15 year old protagonist howie paul franklin dano in his opening voice over howie reveals a morbid preoccupation with death on the road citing the l i e highway deaths of filmmaker alan j pakula songwriter harry chapin and his own mother on exit 52 he s both fascinated and disturbed by the l i e and those feelings are projected onto big john who follows howie around in his bright red car but never makes a move to force the boy to do something he doesn t want to do this makes him much more complex than the usual child molesters seen in movies he s a beast but ashamed of it l i e would have worked best as a half hour short film about howie s ill advised foray into big john s haven there is unnecessary padding with howie s miserable dad bruce altman in the hot seat for a white collar crime degenerate youngsters who get their kicks from robbing middle class houses and some homoerotic shenanigans with wise ass gary terrio billy kay a handsome artful dodger rather than add to the themes of suburban ennui not that we needed another movie on that subject these awkward subplots pad out the running time to adequate feature length concurrently the relationship between howie and big john is evenly paced and exceptionally well acted cox sporting a baseball cap and a faded marine tattoo is all bluff and bluster dano is quiet and at first glance seems so withdrawn as to be transparent we re so used to child actors whose dramatic choices are broad and obvious calling haley joel it s surprising to see one who actually listens throughout any given scene the restraint is admirable but l i e s screenplay doesn t always give them the best material when howie reads big john a walt whitman poem the moment feels a bit too precious director michael cuesta lingers on an ecstatic reaction shot of big john who may as well be hearing glenn gould performing bach s goldberg variations it s too much there are also some obvious dramatic contrivances involving big john s other boy toy walter masterson jealous over the newbie this plot thread predictably leads to violence not content to be a haunting observational portrait of teen alienation in a royally screwed up world like terry zwigoff s superb ghost world cuesta lacks the confidence in his own work to end on an ambivalent note it s typical of unimaginative cinema to wrap things up with a bullet sparing the writers from actually having to come up with a complex philosophical note in this regard l i e and countless other indie films share something in common with blockbuster action films problems are solved when the obstacle is removed how often does real life work this way to extend the question if a movie is striving for realism do dramatic contrivances destroy the illusion',\n",
       " '0:::one of the most respected names in american independent filmmaking is john sayles he has built a strong reputation with films like matewan and the secret of roan inish and one of his best was his last film lone star after sayles gave us this complex and unconventional look at ethnic tensions on the us mexico border expectation ran high for his next film unfortunately his men with guns is not the film anyone was hoping for we are essentially told in the first reel where the film is going to go and what it is going to do then the film does exactly what it promised a painful as that is the plot of men with guns can be summarized in a central or south american country things are really bad for everybody in the mountains where the army clashes with the guerrillas dr fuentes did not believe how bad things were so he went and he found out again and again and again of course it is perfectly true that in many places in that region armed conflicts have turned life into a living hell a guerrilla war is always bad for civilians but the film talks down to the viewer dr fuentes played by federico luppi teaches medicine in the capital city of his country he has as a great humanitarian gesture trained and inspired some of his best students to go into the mountains and make the world a little better for the poor indios fuentes believe the students to be up there doing humanitarian service then he discovers one of his best students has instead returned to the city and runs a squalid private pharmacy in shame and disappointment fuentes asks the student what has happened to the others the student tells him the others are still in the mountains but suggests that it may not be a good place to be fuentes goes off to find and visit the doctors ignoring the advice of his family and a patient who happens to be an army general the results are little different than one would expect dr fuentes starts out incredibly naive even some american tourists present in the film mostly for comic relief seem to know better than dr fuentes that things have gotten pretty bad in the mountains but fuentes has to go from one scene of barbarity to another and discover how wrong he was sayles certainly could have used 126 minute of screen time to tell us something more profound than that nasty things are happening down there and most of the worst happens to the unarmed civilians the cast is mostly unknowns to american audiences federico luppi is the good mexican actor who played the antique dealer torn by mysterious forces in cronos damian delgado makes a late appearance as an army deserter mandy patinkin has a small role made to look bigger in the trailer',\n",
       " '0:::a recently uncovered one fourth of orson welle s planned docu drama of amazing stories around the world named it s all true this short dealt with welle s attempts to document the actions of several brazilian fisherman in 1942 who had become folk heroes for their fantastic voyage to rio on a raft while several clips of the film are seen the short tends to spend more time trying to recount welle s attempts to film it despite studio problems a staggering workload and extremely ill fortune on the set impressive photography but really only interesting to film historians sadie thompson u s a 1928 director raoul walsh screenwriter raoul walsh from the john colton play rain based on w somerset maugham s story miss thompson cast gloria swanson raoul walsh lionel barrymore silent after the discussion of the newly restored version of frank capra s lost horizon where several scenes had been restored using stills i was interested to see sadie thompson where the lastminutes of the film had been destroyed many years ago this is the silent version of the somerset maugham short story miss thompson this is one of the most skillful silent films i have ever seen little awkwardness and a very clever script the actors gloria swanson raoul walsh who also directed and wrote the screenplay and especially lionel barrymore as the hypocritical reformer who supposedly wants to save sadie s soul but really wants to get her between the sheets is the absolute epitome of sanctimonious scoundrel swanson adds real life to the character adding an worldly affectionate air to the bawdy sadie unfortunately the ending is rather poorly tied up it is difficult to know whether this is due to the lack of live action film or the original script the happy ending seems particularly poorly tied on i cannot believe maugham s short story ended with sadie and our hero moving to australia the stills are expected to fill in a conclusion we ve been waiting an hour and a half for still it s entertaining right up to the end certainly barrymore s incredibly hammy performance which nonetheless works perhaps due to the silent screen is a must for anyone who is fed up with the actions of the falwells bakkers and robertses of the religious worlds this is an animated film from czechoslovakia that is definitely not for kids it tells the old folk tale of the pied piper with a twist ending i find highly appropriate and with a lot of political comment along with it perhaps economic content is a better word it certainly doesn t show capitalism in a good light nor human nature nor anything else for that matter as you may have guessed this is not a tgif film this is the kind of film you are glad is over not that it wasn t interesting for technical reasons this is stop animation that is very well done all the puppets have been carefully carved out of walnuts except for the animated stuffed rats boy sounds like a real comedy vehicle doesn t it add onto that set design that makes the cabinet of doctor caligari absolutely cheerful in comparison and you have something to give the wee ones and some of the mentally unstable larger folk to keep them up at night some gore don t bring children to this one don t bring adults to this one unless they re fascinated by puppetry and or hate capitalism so badly they enjoy seeing wooden puppets raped blech this film takes us back and forth over the east german west german border with meier an east german wallpaperer whose father in the west dies and leaves him a good deal of money his uncle also in the west sneaks meier out of the country unknown to the east germans meier however is less than thrilled his girlfriend his friends and his job which he likes all exist in east germany after a round the world trip his boss think s he s on leave in bulgaria meier starts visiting east germany on day visas with a fake id and uses his money and his connections to the west to buy his girlfriend presents and bring credit to his work crew s work while everyone think s he s still living in east germany of course something goes wrong and the ending is very funny but it takes the film too long to get there the humor is spread too thin and much of the plot is too obvious as is the acting still a good concept for the comedy and the last five minutes are pretty funny after a lifetime of movie going and about four years of attending the seattle international film festival i ve learned several rules which while not absolute should certainly be given deference to 1 be wary of french comedies these people like jerry lewis 2 ken russell is never going to grow up no matter how long you wait 3 any film where siff associate director gary tucker refers to the lead as old pouty lips is probably not worth watching 4 when an australian film only awards credit is best cinematography watch out australia has good cinematographers up the whazoo but since weir and miller left for foreign shores finding a good script or director seems to be a difficult not impossible witness malcolm last year task well i ignored rules last night and sat through a film that should be in the golden turkey awards it s as if the director was trying to do one of those classic romance stories that were done in the 30 s about tragedy among the gentry and falling in love with people below your station and horses lots and lots of horses the film opens with a stallion mounting a mare under the direction of her ladyship which i guess is some kind of foreshadowing because the missus of the house wants to have her son produce an heir unfortunately said son a reckless idiot who faints at the very worst times kills his father and loses an arm during a racing accident highlights include the amputation sequence the doctor s daughter who has the hots for the son tasting his urine for a diagnosis their tender kissing with a window between them while it s raining you d think a woman studying medicine would know better the photography is good but i kept wishing for b w everything seems sepia colored anyway actually i wished i was watching swimming to cambodia instead but that s life grade z avoid like the plague unless you re looking for inadvertent yuks',\n",
       " '0:::the much anticipated re adaptation of the pierre boulle novel comes to the screen as a dark and a little dreary film with lots of chases and fighting but very little intelligence visually there is much to like about this version but the approach is to take an adventure after the style of gulliver s travels and treat it as an action film that makes it a film without much center pierre boulle author of the bridge on the river kwai wrote planet of the apes a k a monkey planet the novel as a social satire it reads a lot like a fifth book of gulliver s travels humans discover a planet in which the roles of apes and humans have been reversed not unlike the roles of horses and humans on jonathan swift s island of the houyhnhnms the novel moves somewhat slowly to create some suspense in revealing all the things most film fans know to be true about the nature of the planet it seems to me there is also a statement about human cruelty to animals but perhaps i was just looking for that when rod serling adapted the novel into a film released in 1968 he added a number of serling touches familiar from episodes of the twilight zone and changed the ending to make it more serling ish the final irony of the original version has become film history without it there could never have been a planet of the apes film series i can surmise only that serling ran into serious script problems in how to handle the tricky question of language in the book the apes had their own language and the human eventually learned that language that could have been done in the film but that would have required the entire film to be subtitled for the non ape speaking serling avoided this by having the apes speak english and of course there is some justification for that by the end of the film justifying why the apes spoke english may have even been the inspiration for his surprise ending but serling never tackles the all important question of why a supposedly intelligent human never shows any curiosity or even surprise that the apes speak his own language a language they had no opportunity to ever hear few viewers questioned this serious plot hole however and the film has become well respected in cinema history partial credit at least should go to jerry goldsmith whose extremely inventive score is one of goldsmith s best if not his best when the film s success called for sequels the filmmakers turned up the violence and they added well intentioned though not very subtle political messages about what was happening in the united states of the 1960s and 1970s while the first film had a little shooting of guns and what was there seemed a little half hearted by the second film beneath the planet of the apes there was a good deal more violence and from that point on the series had a lot of violence and chases the series concluded with battle for the planet of the apes in 1973 now director tim burton tries his hand at adapting the original book again for those who thought that the 1968 version was not very faithful to the book burton s new version is even less faithful first he does not really reverse the roles of the humans and the apes he has them both be intelligent articulate races battling for a dominance of the planet currently in the hands uh make that paws of the apes that could be a good story too but it is not planet of the apes as with the mission impossible films and so many other cinematic homages to the third quarter of the last century the title makes promises that the filmmakers have no intention of honoring in 2029 leo davidson mark wahlberg not this world s most expressive actor works on a space station increasing the intelligence and usefulness of apes then a convenient time storm sweeps him up wizard of oz fashion and drops him on an alien planet yes he survives this storm but then no storm is perfect he quickly finds not greatly to any surprise he shows that on this planet apes rule and humans drool but everybody talks and the language they talk is earth english apparently it does not even occur to leo that there is a mystery that needs to be explained about that the fact it does not occur to leo and apparently didn t occur to tim burton either is the heart of the real horror of this film both just assumed that if apes were going to talk the language they would speak would be english in any case having one talking race dominating another makes this not a look at human animal relationships and more one of the master slave relationships outside of sudan and a few other countries this is a less relevant topic leo is captured to be used as a slave but also is discovered by ari played by helena bonham carter ari is an attractive ape with close ties to high political power she is bent on making the world a better place perhaps in a previous draft of the script she was called hil ari in any case with makeup that stifles her usual pout carter is just about as attractive as she has ever been in a film she may want to consider this to become her standard look from this point forward it is not long before leo escapes with some human and only a couple of sympathetic apes this is a further abandonment of the source material the chase severely limits the interplay of ape and human and the examination of each s place in this reversed society each important in the book we cannot see how the society works because most of the screentime society has broken down we see the humans either separated from the apes or fighting them burton chooses visceral thrills over cerebral ones at almost every turn this is a miscalculation as characters so lacking in empathy value are difficult ones to place much emotional investment in they are basically chess pieces and the viewer has little reason to root for them to win the 1968 script had little subtlety with lines like i never met an ape i didn t like but at least we cared for what happened to taylor the main character most of what this film has to offer is in the visuals the visual work is spotty but generally nicely done except that so much of the film takes place in the night or in fog this tends to limit close looks at the makeup in general it seems much improved from 1968 the makeup team is led by rick baker instead of john chambers who did it for the 1968 version in 1968 chambers makeup was a jaw dropper it was realistic enough to almost be believable but flexible enough to show emotion chambers is good but if anyone had a chance to best him it would have to be baker today audiences have higher expectations baker s visualization is really an improvement these visuals work nicely what does not work is the wire assisted leaps some of the apes make they look like they were inspired by the physics defying leaps of crouching tiger hidden dragon apes spring incredible distances some of the best scenes are apes running into battle looking like they have ape posture but when they start flying through the air the effect is lost one final visual problem is that the film frequently shows its budget in what should be spectacular battle scenes the camera shows us only a small group of people close up since the days of lon chaney and boris karloff few actors have crossed over to stardom in a role that required heavy make up the one actor who has a shot is paul giamatti it is not that his lines are so good most are silly jokes but he delivers them very well he was always a watchable actor but has not yet made stardom as the ape trader limbo he over emotes to overcome his ape make up but does it very well in doing so he makes himself the most interesting thing on the screen he is probably the best thing in the film and conjures up memories of peter ustinov s performance in spartacus as an in joke there are several lines in the script borrowed from the 1968 film and an old ape played by charleton heston becomes an allusion to the first film by itself danny elfman s score has a nice primitive feel but jerry goldsmith s 1968 tour de force score is a real classic that score and the whole film will be remembered when the 2001 film is forgotten',\n",
       " '0:::according to popular film opinion a film s greatness is determined by time take for example casablanca great film even today it s still as powerful as it was when it came out and still as romantic and tragic another example would be star wars which had a very very healthy box office gross despite the fact that we had all seen it about 3 billion times before but as i rewatched independence day when it came out on video after being the number one hit of 1996 i kinda felt like it wasn t as cool as when i had first seen it i had liked it when i saw it the first time was my original view and basically saw it as a good escape film but when i rewatched it i felt cheated thus the curse of the event film independence day is like that kid who come out of nowhere and makes everybody happy at once except for a couple kids the critics in this situation but after a while this kid becomes annoying and you just wait for the next one well this kid is the event film in my little analogy and when i rewatched independence day not only did it not look cooler at all on the big screen but i felt insulted the whole time there are too many gaping craters in the plot and you just aren t sure if it s comedy or hokey drama one scene you ll see a hilariously nebbish scene between jeff goldblum and judd hirsch the next you ll see a bunch of military uptight guys walking around saying corny lines the worst is a scene between brent spiner and bill pullman where spiner is sayinig something innocently funny but is barked like a junkyard dog by bill pullman who gives him the most unitentionally funniest speech since the end of glen or glenda now this annoying kid s problem is that in the process of trying to make everyone like him all at once he shows he has no balls and independence day has no balls it plays it safe everywhere it throws in a ton of action that is borrowed from other superior films the chase scene between the alien ship and will smith is straight out of star wars i mean isn t that devil s den and the aliens are about as anticlimactic as demi moore s breasts in striptease they re these octopus men boring freaking octopus men i mean come on the aliens in 2001 were more interesting and you didn t even see them basically the plot is straight from a b movie from the 50s aliens come to earth and we wonder if they re hostile or peaceful okay it s an interesting topic but it s not handled greatly now they aren t and somehow a computer geek jeff goldblum figure out they re using our satellites as a countdown to destruction yep these aliens are not only heavily armed they re stupid too they also use the same kind of computer as we do but that comes about later the president bill pullman who s under attack for being a wimp decides this would be a nice time to be belligerent and he decides he ll stay in the white house which the aliens have covered i don t care if it s bob freaking dole in the white house get him out of there i don t care if you have to inject him with sodium pentathol just get him out of there later on he s stupid and wants to fly in the attack on a big alien ship i think it s time for impeachment for this guy he s more senile than reagan on pot then there s a cocky pilot will smith who is the only person to survive the counter attack on the second day and becomes moses in leading his children to the elusive area the film s only sign of being brave his girlfriend s a stripper sharing a subplot with striptease in that she has to do it for her son come on she has a fighter pilot boyfriend soon to be fiance i think she can quit that job and get a more respectable job at long john silvers she s also the few the proud the lucky to survive the igniting of l a as well as her dog who narrowly survives there are some bright spots they tossed in enough old film homages to keep me laughing the best one is when jeff goldblum nicely named david turns on his computer and a picture of hal comes up and says good morning dave and they even played r e m s it s the end of the world as we know it and i feel fine at the beginning and judd hirsch steals the film by actually acting great he s a stereotype but i just loved the man anyway but there are no real subtle comic moments will gets way too many one liners and he has no one to play off of execept jeff towards the end and the two do great as i said this film has no balls it is just aiming for a crowd pleaser and that s what it is but after a couple months we all move on to the next event film while intaking little films and a couple indy ones for good measure but at least the indy ones last for a lifetime this one s short on batteries',\n",
       " '0:::from dusk till dawn director editor robert rodriguez screenwriters quentin tarantino robert kurtzman story cinematographer guillermo navarro cast quentin tarantino richie gecko george clooney seth gecko juliette lewis kate fuller harvey keitel jacob fuller ernest liu scott fuller salma hayek santanico pandemonium tom savini sex machine fred williamson frost cheech marin border guard chet pussy carlos michael parks texas ranger brenda hillhouse hostage gloria runtime 108 dimension films 1996 it s a love it or hate it film i simply hated it on its menu for fun is a violent feast served up as charm and done in a tongue and cheek manner it s a serial killer horror film farce of nonstop over the top action and sleaze involving decapitations vampires biker fights extended gun play and an array of gore that has to be seen to be believed a film that regales in its vulgarity and campiness for blood and gore as it goes out of its way to gloss over the clichs of the conventional b films it s geared only for the cult film crowd and will make its mark there one way or the other the plot involves two psychopath brothers the older professional bank robber and killer seth gecko clooney and the perverted psychopath killer richie tarantino who kills for pleasure and is also a rapist they escape jail and go on a killing spree in wichita and then flee to a liquor store in a small texas border town they have just robbed a bank and killed a number of cops they have also taken a middle aged bank teller as a hostage in the liquor store they kill a texas ranger and the store clerk and burn down the store stopping off in a flop house motel richie rapes and slaughters the hostage these scenes are all done with an eye for comedy and parody if that s possible on the tv news it says they have killedso far and most are texas rangers the brothers plan to get to mexico and meet carlos cheech who will give them a place of sanctuary for thirty percent of their illegal take with road blocks and car searches at the border the brothers commandeer a motor home of a vacationing family who stopped at their motel so that the father could sleep in a real bed there is the father jacob fuller keitel who just resigned as a minister because he lost faith ever since his wife died in a car accident his sexy 20 year old innocent daughter kate lewis and her shy brother scott liu it s not explained how he happens to be chinese the story really becomes bizarre when they get across the border and get ready to meet carlos in a bar whorehouse for truckers and bikers called the titty twister the place is open from dawn to dusk thus the film s title here s where rodriguez has a chance to throw convention out the window and have some absurd fun as the place turns out to be a vampire hangout it sells sex to its patrons and has exotic stripper santanico pandemonium hayek do her alluring strip before turning into a vampire the brothers and their hostages have to fight their way out of the place as the vampires keep coming and the killings become the film s staple this supposedly clever script did nothing but turn me off though there were a few funny moments in a film that was dripping with special effects and spent most of its script in finding novel ways to showcase its killings i ll take a pass on this one it s just not my style of a film the characters were as empty as the story and the film was an easy one to forget dennis schwartz ozus world movie reviews all rights reserved dennis schwartz',\n",
       " '1:::starring rutger hauer powers boothe kathleen turner a breed apart casts rutger hauer as a crazy bird loving recluse who picks his feathered friends over kathleen turner a bit hard to swallow that s only the first of many improbabilities in this film hauer stars as a man obsessed with keeping the birds on his island safe while boothe plays a guy hired to steal a couple of rare eagle eggs by a rich egg collector turner is the woman caught between the two men a breed apart isn t a bad movie exactly indeed i found myself rooting for both the hauer and boothe characters even though their goals couldn t be more different the problem with the film is that there are just too many inconsistencies for example early on in the film hauer physically assaults two drunken rednecks shooting at his birds later on the rednecks come back for revenge with four other people and hauer kills a few of them i have a tough time believing that the police wouldn t get involved at that point another problem is the silly love triangle that develops i didn t care one way or the other who ended up with turner i was more interested in finding out which of the two men would be victorious in their respective missions however despite this uninteresting sub plot turner did manage to give a great performance as the woman who reminds the two men that sometimes there s more to life than money and birds as for hauer he s an actor i ve always admired he has a penchant for picking strange and unusual characters and this one is no exception he s frequently seen riding around his island on a white horse wearing pirate s clothing and holstering a cross bow despite all his eccentric mannerisms though hauer always manages to let the human side of his character shine through for example there s a scene in which he barks at turner and her son because they came onto his island a day early he comes off as crazy loner in that scene but a few minutes later he is apologizing to turner and we believe his intentions soon after we find out he s a vietnam vet and his actions become fairly clear to us a breed apart isn t a great movie by any means but it does contain good performances by all three leads and it s worth seeing for that reason alone',\n",
       " '1:::a romantic comedy about the trials and tribulations of single working parents with a couple of incredibly cute kids thrown in for good measure yuck but it s not really too bad it has a lot working against it for me at least in addition to the above it is typical of a lot of recent movies in that it is really just a glorified made for tv movie but longer and with bigger stars and you have to pay to see it it does win you over though even if it is painfully predictable just think about it two single parents with their cute kids are thrown together due to a missed field trip through a day of near disasters they cont inually meet get in one another s way cause trouble for one another and generally insult one another at every opportunity in fact they hate each other so much that we know that they are or soon will be in love the only people who hate each other more than lovers are married couples so this film is predictable just as the screwball comedies of the classical hollywood cinema were predictable and the screwball genre is obviously hoffman s model for this film will they get fired from their yuppie jobs will they make the big soccer game that is so important to their kids will pfeiffer realize what a jerk her ex husband a drummer for bruce springsteen really is aren t they all will they finally kiss well what do you expect but there is a certain amount of satisfaction in having our expectations fulfilled especially when it is done with as much humour along with a lack of sticky sentimentality as it is in this film pfeiffer and clooney have a certain chemistry together that is surprisingly charming and the kids are neither shoved into the background nor allowed to steal the show one word of caution though this film is being billed in some places as a family movie don t let that stop you however i think most kids especially boys would be pretty bored by this move after all nobody gets killed and there are no explosions all in all a good non offensive date movie',\n",
       " '1:::final fantasy the spirits within with a team of 200 graphic artists and animators working on this first film production from game developer squaresoft s square pictures final fantasy inspired by the top selling game franchise is visually awe inspiring and groundbreaking no doubt you have never seen anything like this film and the hyperbolic fanfare surrounding its release is absolutely deserved but why does such a tremendous feat of eye candy have to be weighted down with a problematic story wooden dialogue and generally uncharismatic voice acting obviously the primary goal of the film is to stun and amaze audiences with extremely sophisticated cgi everything you see in the film is rendered in great detail individual threads in the fabric individual strands of hair swaying wrinkles and pimples on skin incredible water effects overall the expressions and lip movements fairly accurately match the emotions and dialogue and the times when they don t sync perfectly really stand out since the animation is usually so dazzling but you won t spend much time dwelling on those gaffes as soon as you catch one the next stellar monster or effect will have you muttering wow like the series of games final fantasy s plot and characters have little to do with its predecessors outside of being born from the same japanese mastermind hironobu sakaguchi it s the year 2065 and humans are prisoners in caged cities of their own making that guard them from an outside world now overrun with deadly alien phantoms whenever a human comes in contact with the ghostly visitors the often invisible beings pass through the body and wrench out its soul for some unexplainable reason while many humans agree with a plan by monomaniacal general hein james woods to blast the aliens with a zeus cannon dr aki ross ming na and dr sid donald sutherland plan to build a wave using eight collected spirits to counteract the phantoms and kill them off while the images serve the sci fi aspect of the film well the storytelling doesn t it s unfortunate because the plot seems so intricately thought out perhaps it was far too complex and enormous to be entirely incorporated into the script some could blame this weakness on the fact that it was a japanese concept translated to english except two americans wrote the screenplay nevertheless the end result is an elaborate story complicated by confusing holes why do these aliens feed on souls if they can pass through bodies and ships how can humans hurt them with guns what is so special about the spirits that they would create a force strong enough to destroy the aliens worse yet the dialogue is scripted to be either like a science heavy star trek episode an installment of die hard or a sappy love story depending on who s doing the talking for the most part it s bearable considering the genre but tedious speeches and cheesy lines don t do anything to help the actors and can get annoying in the longer scenes the only exception is steve buscemi as pilot neil fleming who always has great cracks during tense moments but when the lights come up and the credits roll you re more likely to be remarking on how fantastic the film looked there s no question that the roughly 33 million people who have bought at least one final fantasy game will be eager to see this movie and so should anyone who enjoys being floored by the best cg animation ever put to film you d be living in a fantasy world of your own if you expected much more',\n",
       " '1:::deep rising is one of those movies the kind of movie which serves no purpose except to entertain us it does not ask us to think about important questions like life on other planets or the possibility that there is no god screw that it says boldly let s see some computer generated monsters rip into decapitate and generally cause irreparable booboos to a bunch of little known actors heh them wacky monsters gotta love em of course since we can rent about a thousand b movies with the same kind of story hollywood must give that little extra oumph to get people in theaters that is where deep rising fails which is a good thing confused let me explain despite all them flashy effects and big explosions deep rising is still at heart a good ol b movie luckily it s a very good b movie the worst cliches in movie history are a b movie s bread and butter therefore things that would destroy a serious movie actually help us have a good time while watching a movie of lower calibre of course we know there s a big slimy creature behind that door that one person will wander off to be picked off by said monster and we always know which persons or person will make it out alive we just don t know when or how horrible it will be i went to see deep rising with my expections low and my tolerance for bad dialogue high imagine my surprise when i discover that deep rising is actually well pretty darn funny at times a funny b movie well that s new these flicks are not supposed to make us laugh except for a few unintended laughs once a while and before you know it treat williams wes studi and famke jansen appear on the big screen our man treat is the hero he ll live wes is a staple of b movies he is the token victim we know he ll buy the farm but he will take a few creeps with him on the way out famke is the babe nuff said there is also a guy with glasses the guy with glasses always dies a black person b movie buffs know that the black guy always dies never fails and a very funny nerdy guy ah comic relief how can we possibly explain having to kill him let him live after the first fifteen minutes i felt right at home i know who to root for and who i need to boo too and a gum to chew please kill me suffice it to say that for the next hour and a half i jumped out of my seat a few times went ewwww about a dozen times and nearly had an orgasm over all the explosions and firepower our heroes were packing i m a man we nottice these things all in all i d recommend deep rising if you are looking for a good time and care to leave your brain at the door but bring your sense of humor and excitement in with you the acting is decent the effects top rate how to best describe it put together the jet ski scene from hard rain the bug attacks from starship troopers a couple of james bond like stunts and all those scenes from friday the thirteenth and freddy where you keep screaming don t go there he s behind you and you end up with deep rising rating for creepy crawly goodness tight t shirts major firepower and the need to go to the bathroom every fifteen minutes from seing all that water',\n",
       " '1:::starring sylvester stallone amy brenneman viggo mortensen dan hedaya jay o sanders at first glance daylight would seem like your typical disaster movie on second glance it looks that way too although as typical disaster movies go daylight isn t that bad admittedly it seems to rip off a great deal of its plot devices from disaster flicks of days gone by think poseidon adventure but the decent dialogue and surprisingly good acting make up for the haven t i seen this scene somewhere before feeling that creeps up all too often during the film sylvester stallone stars as the recently fired head of new york s emergency response team by sheer luck he is in the right place at the right time when disaster strikes the unaware inhabitants of this little film what disaster is that you ask as you inch ever closer to the edge of your seat glad you asked through a whole sequence of entirely probable events about as probable as hitting the lottery a large explosion takes place in the lincoln tunnel running under the hudson river in new york city the explosion results in the tunnel collapsing at both ends which causes not only massive loss of life but traps a dozen people inside the wreckage of the tunnel good old sly who is only feet away from entering the tunnel when it collapses offers his services to the rescuers who gladly accept it sly then enters the tunnel through a vent shaft think judge dredd which he can only go in and not out off and proceeds to try to rescue those trapped inside so begins the fun but the fun has to be quick because this tunnel has started to spring a leak the acting is about what you would expect of a stallone movie not superb by any means but far above some of his other films think judge dredd again daylight s acting is probably average or a little above in terms of this sort of genre starring this particular star amy brenneman is the only actor of any note and she does a pretty good job as stallone s reluctant helper oh yeah stallone s real life son sage is in this too sage nice name i guess it could be worse he could have been named nutmeg or parsley note to sage you are still young go to school and get a good education you don t have a future in acting the plot runs along the same lines as the acting interesting but predictable mostly due to the fact that it was pretty well recycled from a dozen other action flicks the biggest problem with a film of this nature is that they try to cram too many things into the movie as soon as the cast clears one seemingly impossible hurdle another one seems to pop right up even worse than the last one i realize that it wouldn t be much of a movie otherwise but it does make the movie a bit predictable adding to the predictability is the cast of characters which of course has to include at least one or two difficult people who want to do things their own way and think the qualified guy in this case stallone doesn t know what he is doing why is it in disaster movies we can never have everyone agree with each other and all work together would this be too much to ask can t we all just get along special effects weren t bad but i ve certainly seen better some of the scenes while fun to watch were such blatant rip offs that you had to wonder if scripts from old movies were just copied verbatim especially all of the scenes that involved anything underwater the tunnel of course starts to flood i really expected gene hackman roddy mcdowell and ernest borgnine to appear at any minute i wasn t sure if i was watching daylight or the poseidon adventure i suppose if you have to rip off a movie for good ideas the poseidon adventure is a good one to use the underwater sequences aside from the deja vu were very well shot and worked fairly well they were the best part of the movie by a long shot better than average stallone flick i realize that s not saying much when the man has judge dredd on his resume but certainly not up to the standards of cliffhanger daylight is a fun movie and as long as you aren t expecting a whole lot you might even be pleasantly surprised']"
      ]
     },
     "execution_count": 107,
     "metadata": {},
     "output_type": "execute_result"
    }
   ],
   "source": [
    "all_4_errors"
   ]
  },
  {
   "cell_type": "code",
   "execution_count": 105,
   "metadata": {},
   "outputs": [
    {
     "data": {
      "text/plain": [
       "'in phantom menace the galaxy is divided into power groups whose interests will inevitably collide in later sequels there is an overarching galactic united nations type organization called the senate presided by a weak chancellor within the senate two camps are at odds a bickering isolationist alliance called the republic and their aggressive rival the trade federation preserving law and order are a council of jedi knights who are meanwhile searching for a prophesied chosen one of virgin birth manipulating events behind the scenes is a dangerous reemerging clan called the dark lords of sith so shadowy and secretive that they comprise a phantom menace jedi knight qui gon jinn liam neeson and his apprentice obi wan kenobi ewan mcgregor witness an invasion of teenage queen amidala s home planet naboo and befriend a gungan named jar jar ahmed best on the desert planet of tatooine the two jedi jar jar and amidala natalie portman attend a lengthy drag race involving the young boy anakin skywalker jake lloyd the five protagonists try to solicit help for freeing naboo by visiting the city planet of coruscant where a lot of debate and political maneuvering takes place can they free amidala s helpless planet on tv last night i watched young wannabe celebs pay 400 a ticket and come running out of theaters to bask in front of news cameras gushing with testimonials of the phantom menace s greatness in exchange for a few seconds of being on national television given this kind of media mania i wondered if phantom menace the most anticipated movie of 1999 could possibly live up to the extraordinary hype that preceded it does phantom menace match the exaggerated hype director george lucas answers it s only a movie to me any movie with russian sounding accents for bad guys jamaican accents for good guys and middle eastern sounding accents for seedy gamblers accents can be expected to be more tongue in cheek than profound visually star wars episode i the phantom menace 1999 is a kid show where parents can take their young ones to marvel at child friendly cgi characters and wondrous backdrops even if the character dialogue mostly geopolitics is beyond the level of children it is left to parents to patiently explain the conversation droid origins family lineage the definitions of terms like blockade appeasement federation alliance symbiosis satellite controlled robots et cetera at least this much is clear there s plenty of eye candy and in the last few minutes it s good guys and joe camel lookalikes versus a caped horned red devil character and his mechanical hordes weaknesses weaknesses lie in the writing and in the performance at first it seems like the film is to be an invasion story but then phantom takes an hour long detour to cover one chariot race before returning to the invasion theme this dilutes the central story additionally smaller scenes seem written self consciously as if they were added more to fill us in on extraneous background information for other movies rather than form an integral part of the present movie veteran actors liam neeson and ewan mcgregor noticeably outperform the other acting leads better ensemble chemistry between the five leads and background information that is central to a tight story line could have made have given phantom stronger performances and storytelling punch strengths on the bright side phantom menace as a big budget production is far ahead of the competition in terms of making whimsical creatures worlds and vehicles appear real the film boasts sophisticated top of the line visuals and quality exotic costumes a musical score entertaining enough to stand alone and three worthwhile sequences in the second half bottom line seeing the film is entertaining and informative like a visual theme park with star wars filler information serving as dialogue between impressive money shots we are bound to be completely inundated by star wars publicity music and tie ins for the next few months'"
      ]
     },
     "execution_count": 105,
     "metadata": {},
     "output_type": "execute_result"
    }
   ],
   "source": [
    "' '.join(str(elem) for elem in test.x_train[197])"
   ]
  },
  {
   "cell_type": "code",
   "execution_count": 106,
   "metadata": {},
   "outputs": [
    {
     "data": {
      "text/plain": [
       "1"
      ]
     },
     "execution_count": 106,
     "metadata": {},
     "output_type": "execute_result"
    }
   ],
   "source": [
    "test.y_train[197]"
   ]
  },
  {
   "cell_type": "code",
   "execution_count": null,
   "metadata": {
    "collapsed": true
   },
   "outputs": [],
   "source": []
  }
 ],
 "metadata": {
  "kernelspec": {
   "display_name": "Python 3",
   "language": "python",
   "name": "python3"
  },
  "language_info": {
   "codemirror_mode": {
    "name": "ipython",
    "version": 3
   },
   "file_extension": ".py",
   "mimetype": "text/x-python",
   "name": "python",
   "nbconvert_exporter": "python",
   "pygments_lexer": "ipython3",
   "version": "3.6.8"
  }
 },
 "nbformat": 4,
 "nbformat_minor": 2
}
