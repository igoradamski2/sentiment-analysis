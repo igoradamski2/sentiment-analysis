{
 "cells": [
  {
   "cell_type": "code",
   "execution_count": 1,
   "metadata": {
    "collapsed": true
   },
   "outputs": [],
   "source": [
    "from utilities import *\n",
    "from model import *\n",
    "from metrics import *\n",
    "import numpy as np\n",
    "from scipy import stats"
   ]
  },
  {
   "cell_type": "markdown",
   "metadata": {},
   "source": [
    "# Q1.0 and Q2.0"
   ]
  },
  {
   "cell_type": "code",
   "execution_count": 2,
   "metadata": {
    "collapsed": true
   },
   "outputs": [],
   "source": [
    "# Directory\n",
    "file_dir = \"/Users/igoradamski/Documents/cambridge/MLMI/nlp/coursework/nlp/data-tagged\""
   ]
  },
  {
   "cell_type": "code",
   "execution_count": 3,
   "metadata": {
    "collapsed": true
   },
   "outputs": [],
   "source": [
    "# Fetching training and testing data\n",
    "train = DataHandler(file_dir)\n",
    "test  = DataHandler(file_dir)\n",
    "\n",
    "x_train, y_train, x_test, y_test = DataHandler.getTrainTestSet(file_dir,0,899,900,999)\n",
    "\n",
    "train(x_train, y_train)\n",
    "test(x_test, y_test)"
   ]
  },
  {
   "cell_type": "code",
   "execution_count": 11,
   "metadata": {},
   "outputs": [
    {
     "name": "stdout",
     "output_type": "stream",
     "text": [
      "table1, thr=0, kappa=0\n",
      "table1, thr=0, kappa=0.5\n",
      "table1, thr=0, kappa=1.5\n",
      "table1, thr=0, kappa=5\n",
      "table1, thr=4, kappa=0\n",
      "table1, thr=4, kappa=0.5\n",
      "table1, thr=4, kappa=1.5\n",
      "table1, thr=4, kappa=5\n",
      "table1, thr=8, kappa=0\n",
      "table1, thr=8, kappa=0.5\n",
      "table1, thr=8, kappa=1.5\n",
      "table1, thr=8, kappa=5\n",
      "table1, thr=12, kappa=0\n",
      "table1, thr=12, kappa=0.5\n",
      "table1, thr=12, kappa=1.5\n",
      "table1, thr=12, kappa=5\n",
      "table1, thr=0, kappa=0\n",
      "table1, thr=0, kappa=0.5\n",
      "table1, thr=0, kappa=1.5\n",
      "table1, thr=0, kappa=5\n",
      "table1, thr=4, kappa=0\n",
      "table1, thr=4, kappa=0.5\n",
      "table1, thr=4, kappa=1.5\n",
      "table1, thr=4, kappa=5\n",
      "table1, thr=8, kappa=0\n",
      "table1, thr=8, kappa=0.5\n",
      "table1, thr=8, kappa=1.5\n",
      "table1, thr=8, kappa=5\n",
      "table1, thr=12, kappa=0\n",
      "table1, thr=12, kappa=0.5\n",
      "table1, thr=12, kappa=1.5\n",
      "table1, thr=12, kappa=5\n",
      "table1, thr=[0, 0], kappa=0\n",
      "table1, thr=[0, 0], kappa=0.5\n",
      "table1, thr=[0, 0], kappa=1.5\n",
      "table1, thr=[0, 0], kappa=5\n",
      "table1, thr=[0, 4], kappa=0\n",
      "table1, thr=[0, 4], kappa=0.5\n",
      "table1, thr=[0, 4], kappa=1.5\n",
      "table1, thr=[0, 4], kappa=5\n",
      "table1, thr=[4, 8], kappa=0\n",
      "table1, thr=[4, 8], kappa=0.5\n",
      "table1, thr=[4, 8], kappa=1.5\n",
      "table1, thr=[4, 8], kappa=5\n",
      "table1, thr=[6, 12], kappa=0\n",
      "table1, thr=[6, 12], kappa=0.5\n",
      "table1, thr=[6, 12], kappa=1.5\n",
      "table1, thr=[6, 12], kappa=5\n"
     ]
    }
   ],
   "source": [
    "# CREATING TABLES FOR LATEX\n",
    "table1 = np.zeros((4,4))\n",
    "table2 = np.zeros((4,4))\n",
    "table3 = np.zeros((4,4))\n",
    "\n",
    "predictions1 = {}\n",
    "predictions2 = {}\n",
    "predictions3 = {}\n",
    "\n",
    "# table1\n",
    "for idx1, threshold in enumerate([0,4,8,12]):\n",
    "    for idx2, kappa in enumerate([0,0.5,1.5,5]):\n",
    "        print('table1, thr={}, kappa={}'.format(threshold, kappa))\n",
    "        model = NBModel(threshold = [threshold], grams = 'uni', smoothing = kappa)\n",
    "        model.train(train.x_data, train.y_data)\n",
    "        predictions = model.predict(test.x_data)\n",
    "        predictions1['thr={},kappa={}'.format(threshold, kappa)] = predictions\n",
    "        table1[idx1,idx2] = Metrics.getAccuracy(predictions, test.y_data)\n",
    "\n",
    "# table2\n",
    "for idx1, threshold in enumerate([0,4,8,12]):\n",
    "    for idx2, kappa in enumerate([0,0.5,1.5,5]):\n",
    "        print('table1, thr={}, kappa={}'.format(threshold, kappa))\n",
    "        model = NBModel(threshold = [threshold], grams = 'bi', smoothing = kappa)\n",
    "        model.train(train.x_data, train.y_data)\n",
    "        predictions = model.predict(test.x_data)\n",
    "        predictions2['thr={},kappa={}'.format(threshold, kappa)] = predictions\n",
    "        table2[idx1,idx2] = Metrics.getAccuracy(predictions, test.y_data)\n",
    "        \n",
    "# table3\n",
    "for idx1, threshold in enumerate([[0,0],[0,4],[4,8],[6,12]]):\n",
    "    for idx2, kappa in enumerate([0,0.5,1.5,5]):\n",
    "        print('table1, thr={}, kappa={}'.format(threshold, kappa))\n",
    "        model = NBModel(threshold = threshold, grams = ['uni', 'bi'], smoothing = kappa)\n",
    "        model.train(train.x_data, train.y_data)\n",
    "        predictions = model.predict(test.x_data)\n",
    "        predictions3['thr={},kappa={}'.format(threshold, kappa)] = predictions\n",
    "        table3[idx1,idx2] = Metrics.getAccuracy(predictions, test.y_data)\n"
   ]
  },
  {
   "cell_type": "code",
   "execution_count": 14,
   "metadata": {},
   "outputs": [
    {
     "name": "stdout",
     "output_type": "stream",
     "text": [
      "[[ 0.811  0.826  0.831  0.836]\n",
      " [ 0.831  0.831  0.816  0.816]\n",
      " [ 0.831  0.806  0.836  0.791]\n",
      " [ 0.851  0.841  0.846  0.811]]\n",
      "[[ 0.801  0.861  0.851  0.816]\n",
      " [ 0.786  0.816  0.756  0.567]\n",
      " [ 0.756  0.781  0.736  0.577]\n",
      " [ 0.741  0.766  0.721  0.572]]\n",
      "[[ 0.836  0.866  0.866  0.776]\n",
      " [ 0.811  0.816  0.821  0.791]\n",
      " [ 0.826  0.836  0.816  0.697]\n",
      " [ 0.801  0.821  0.796  0.697]]\n"
     ]
    }
   ],
   "source": [
    "np.set_printoptions(precision=3)\n",
    "print(table1)\n",
    "print(table2)\n",
    "print(table3)"
   ]
  },
  {
   "cell_type": "code",
   "execution_count": 28,
   "metadata": {
    "collapsed": true
   },
   "outputs": [],
   "source": [
    "# CREATE TABLE 4 IN LATEX\n",
    "\n",
    "p_values = np.zeros((4,3))\n",
    "\n",
    "for idx1, kappa in enumerate([0.5,1.5,5]):\n",
    "    for idx2, threshold in enumerate([[0,0],[0,4],[4,8],[6,12]]):\n",
    "        p_values[idx2,idx1] = Metrics.signTest(predictions3['thr={},kappa={}'.format(threshold, kappa)], \\\n",
    "                                               predictions3['thr={},kappa={}'.format(threshold, 0)], \\\n",
    "                                               test.y_data)"
   ]
  },
  {
   "cell_type": "code",
   "execution_count": 29,
   "metadata": {},
   "outputs": [
    {
     "name": "stdout",
     "output_type": "stream",
     "text": [
      "[[ 0.10262  0.10262  0.07864]\n",
      " [ 0.11214  0.11104  0.10781]\n",
      " [ 0.11104  0.11104  0.02112]\n",
      " [ 0.10781  0.11214  0.03766]]\n"
     ]
    }
   ],
   "source": [
    "print(p_values)"
   ]
  },
  {
   "cell_type": "code",
   "execution_count": 17,
   "metadata": {},
   "outputs": [
    {
     "name": "stderr",
     "output_type": "stream",
     "text": [
      "100%|██████████| 2009/2009 [00:12<00:00, 159.05it/s]\n",
      "  0%|          | 0/10 [00:00<?, ?it/s]"
     ]
    },
    {
     "name": "stdout",
     "output_type": "stream",
     "text": [
      "table1, thr=[0, 0], kappa=0\n"
     ]
    },
    {
     "name": "stderr",
     "output_type": "stream",
     "text": [
      "100%|██████████| 10/10 [01:34<00:00,  9.41s/it]\n",
      "  0%|          | 0/10 [00:00<?, ?it/s]"
     ]
    },
    {
     "name": "stdout",
     "output_type": "stream",
     "text": [
      "table1, thr=[0, 0], kappa=0.5\n"
     ]
    },
    {
     "name": "stderr",
     "output_type": "stream",
     "text": [
      "100%|██████████| 10/10 [01:38<00:00,  9.85s/it]\n",
      "  0%|          | 0/10 [00:00<?, ?it/s]"
     ]
    },
    {
     "name": "stdout",
     "output_type": "stream",
     "text": [
      "table1, thr=[0, 0], kappa=1.5\n"
     ]
    },
    {
     "name": "stderr",
     "output_type": "stream",
     "text": [
      "100%|██████████| 10/10 [01:41<00:00, 10.14s/it]\n",
      "  0%|          | 0/10 [00:00<?, ?it/s]"
     ]
    },
    {
     "name": "stdout",
     "output_type": "stream",
     "text": [
      "table1, thr=[0, 0], kappa=5\n"
     ]
    },
    {
     "name": "stderr",
     "output_type": "stream",
     "text": [
      "100%|██████████| 10/10 [01:42<00:00, 10.30s/it]\n",
      "  0%|          | 0/10 [00:00<?, ?it/s]"
     ]
    },
    {
     "name": "stdout",
     "output_type": "stream",
     "text": [
      "table1, thr=[0, 4], kappa=0\n"
     ]
    },
    {
     "name": "stderr",
     "output_type": "stream",
     "text": [
      "100%|██████████| 10/10 [01:42<00:00, 10.21s/it]\n",
      "  0%|          | 0/10 [00:00<?, ?it/s]"
     ]
    },
    {
     "name": "stdout",
     "output_type": "stream",
     "text": [
      "table1, thr=[0, 4], kappa=0.5\n"
     ]
    },
    {
     "name": "stderr",
     "output_type": "stream",
     "text": [
      "100%|██████████| 10/10 [01:33<00:00,  9.36s/it]\n",
      "  0%|          | 0/10 [00:00<?, ?it/s]"
     ]
    },
    {
     "name": "stdout",
     "output_type": "stream",
     "text": [
      "table1, thr=[0, 4], kappa=1.5\n"
     ]
    },
    {
     "name": "stderr",
     "output_type": "stream",
     "text": [
      "100%|██████████| 10/10 [01:38<00:00,  9.85s/it]\n",
      "  0%|          | 0/10 [00:00<?, ?it/s]"
     ]
    },
    {
     "name": "stdout",
     "output_type": "stream",
     "text": [
      "table1, thr=[0, 4], kappa=5\n"
     ]
    },
    {
     "name": "stderr",
     "output_type": "stream",
     "text": [
      "100%|██████████| 10/10 [01:52<00:00, 11.30s/it]\n",
      "  0%|          | 0/10 [00:00<?, ?it/s]"
     ]
    },
    {
     "name": "stdout",
     "output_type": "stream",
     "text": [
      "table1, thr=[4, 8], kappa=0\n"
     ]
    },
    {
     "name": "stderr",
     "output_type": "stream",
     "text": [
      "100%|██████████| 10/10 [01:51<00:00, 11.18s/it]\n",
      "  0%|          | 0/10 [00:00<?, ?it/s]"
     ]
    },
    {
     "name": "stdout",
     "output_type": "stream",
     "text": [
      "table1, thr=[4, 8], kappa=0.5\n"
     ]
    },
    {
     "name": "stderr",
     "output_type": "stream",
     "text": [
      "100%|██████████| 10/10 [01:43<00:00, 10.35s/it]\n",
      "  0%|          | 0/10 [00:00<?, ?it/s]"
     ]
    },
    {
     "name": "stdout",
     "output_type": "stream",
     "text": [
      "table1, thr=[4, 8], kappa=1.5\n"
     ]
    },
    {
     "name": "stderr",
     "output_type": "stream",
     "text": [
      "100%|██████████| 10/10 [01:43<00:00, 10.31s/it]\n",
      "  0%|          | 0/10 [00:00<?, ?it/s]"
     ]
    },
    {
     "name": "stdout",
     "output_type": "stream",
     "text": [
      "table1, thr=[4, 8], kappa=5\n"
     ]
    },
    {
     "name": "stderr",
     "output_type": "stream",
     "text": [
      "100%|██████████| 10/10 [01:48<00:00, 10.85s/it]\n",
      "  0%|          | 0/10 [00:00<?, ?it/s]"
     ]
    },
    {
     "name": "stdout",
     "output_type": "stream",
     "text": [
      "table1, thr=[6, 12], kappa=0\n"
     ]
    },
    {
     "name": "stderr",
     "output_type": "stream",
     "text": [
      "100%|██████████| 10/10 [01:45<00:00, 10.58s/it]\n",
      "  0%|          | 0/10 [00:00<?, ?it/s]"
     ]
    },
    {
     "name": "stdout",
     "output_type": "stream",
     "text": [
      "table1, thr=[6, 12], kappa=0.5\n"
     ]
    },
    {
     "name": "stderr",
     "output_type": "stream",
     "text": [
      "100%|██████████| 10/10 [01:41<00:00, 10.15s/it]\n",
      "  0%|          | 0/10 [00:00<?, ?it/s]"
     ]
    },
    {
     "name": "stdout",
     "output_type": "stream",
     "text": [
      "table1, thr=[6, 12], kappa=1.5\n"
     ]
    },
    {
     "name": "stderr",
     "output_type": "stream",
     "text": [
      "100%|██████████| 10/10 [01:40<00:00, 10.00s/it]\n",
      "  0%|          | 0/10 [00:00<?, ?it/s]"
     ]
    },
    {
     "name": "stdout",
     "output_type": "stream",
     "text": [
      "table1, thr=[6, 12], kappa=5\n"
     ]
    },
    {
     "name": "stderr",
     "output_type": "stream",
     "text": [
      "100%|██████████| 10/10 [01:43<00:00, 10.32s/it]\n"
     ]
    }
   ],
   "source": [
    "# CREATE TABLE 5 IN LATEX\n",
    "\n",
    "data = DataHandler(file_dir)\n",
    "data.readOurData()\n",
    "data.roundRobinSplit(10)\n",
    "\n",
    "accuracies = {}\n",
    "\n",
    "table5 = np.zeros((4,4))\n",
    "\n",
    "for idx1, threshold in enumerate([[0,0],[0,4],[4,8],[6,12]]):\n",
    "    for idx2, kappa in enumerate([0,0.5,1.5,5]):\n",
    "        print('table1, thr={}, kappa={}'.format(threshold, kappa))\n",
    "        acc = Metrics.roundRobinCV(data,10,NBModel,threshold = threshold, grams = ['uni', 'bi'], smoothing = kappa)\n",
    "        accuracies['thr={}, kappa={}'.format(threshold, kappa)] = acc\n",
    "        table5[idx1,idx2] = np.mean(np.array(acc))"
   ]
  },
  {
   "cell_type": "code",
   "execution_count": 32,
   "metadata": {
    "collapsed": true
   },
   "outputs": [],
   "source": [
    "table5_var = np.zeros((4,4))\n",
    "\n",
    "for idx1, threshold in enumerate([[0,0],[0,4],[4,8],[6,12]]):\n",
    "    for idx2, kappa in enumerate([0,0.5,1.5,5]):\n",
    "        acc = accuracies['thr={}, kappa={}'.format(threshold, kappa)]\n",
    "        table5_var[idx1,idx2] = np.var(np.array(acc), ddof = 1)\n"
   ]
  },
  {
   "cell_type": "code",
   "execution_count": 25,
   "metadata": {
    "collapsed": true
   },
   "outputs": [],
   "source": [
    "p_values = {}\n",
    "for idx1, threshold1 in enumerate([[0,0],[0,4],[4,8],[6,12]]):\n",
    "    for idx2, kappa1 in enumerate([0,0.5,1.5,5]):\n",
    "        for idx3, threshold2 in enumerate([[0,0],[0,4],[4,8],[6,12]]):\n",
    "            for idx4, kappa2 in enumerate([0,0.5,1.5,5]):\n",
    "                p_values['{},{} vs {},{}'.format(threshold1, kappa1, threshold2, kappa2)] = stats.ttest_rel(np.array(accuracies['thr={}, kappa={}'.format(threshold1, kappa1)]),\\\n",
    "                                                                 np.array(accuracies['thr={}, kappa={}'.format(threshold2, kappa2)]))[1]"
   ]
  },
  {
   "cell_type": "code",
   "execution_count": 27,
   "metadata": {},
   "outputs": [
    {
     "name": "stdout",
     "output_type": "stream",
     "text": [
      "[0, 0],0 vs [0, 0],0 : nan\n",
      "[0, 0],0 vs [0, 0],0.5 : 0.850442999851\n",
      "[0, 0],0 vs [0, 0],1.5 : 0.24656307354\n",
      "[0, 0],0 vs [0, 0],5 : 0.000757375577281\n",
      "[0, 0],0 vs [0, 4],0 : 0.872288363084\n",
      "[0, 0],0 vs [0, 4],0.5 : 0.574717331104\n",
      "[0, 0],0 vs [0, 4],1.5 : 0.343436396138\n",
      "[0, 0],0 vs [0, 4],5 : 0.467869806395\n",
      "[0, 0],0 vs [4, 8],0 : 0.904338428508\n",
      "[0, 0],0 vs [4, 8],0.5 : 0.349637538212\n",
      "[0, 0],0 vs [4, 8],1.5 : 0.380856181241\n",
      "[0, 0],0 vs [4, 8],5 : 4.54870480106e-05\n",
      "[0, 0],0 vs [6, 12],0 : 0.642415137721\n",
      "[0, 0],0 vs [6, 12],0.5 : 0.715073978679\n",
      "[0, 0],0 vs [6, 12],1.5 : 0.198857458502\n",
      "[0, 0],0 vs [6, 12],5 : 1.70813931557e-06\n",
      "[0, 0],0.5 vs [0, 0],0 : 0.850442999851\n",
      "[0, 0],0.5 vs [0, 0],0.5 : nan\n",
      "[0, 0],0.5 vs [0, 0],1.5 : 0.0811261888458\n",
      "[0, 0],0.5 vs [0, 0],5 : 0.000977343449788\n",
      "[0, 0],0.5 vs [0, 4],0 : 0.930811405872\n",
      "[0, 0],0.5 vs [0, 4],0.5 : 0.659621086862\n",
      "[0, 0],0.5 vs [0, 4],1.5 : 0.77353218863\n",
      "[0, 0],0.5 vs [0, 4],5 : 0.555445442106\n",
      "[0, 0],0.5 vs [4, 8],0 : 0.768616004243\n",
      "[0, 0],0.5 vs [4, 8],0.5 : 0.515174220164\n",
      "[0, 0],0.5 vs [4, 8],1.5 : 0.313284325528\n",
      "[0, 0],0.5 vs [4, 8],5 : 0.000116178038551\n",
      "[0, 0],0.5 vs [6, 12],0 : 0.399361359045\n",
      "[0, 0],0.5 vs [6, 12],0.5 : 0.748496030914\n",
      "[0, 0],0.5 vs [6, 12],1.5 : 0.098458924549\n",
      "[0, 0],0.5 vs [6, 12],5 : 5.66256779278e-06\n",
      "[0, 0],1.5 vs [0, 0],0 : 0.24656307354\n",
      "[0, 0],1.5 vs [0, 0],0.5 : 0.0811261888458\n",
      "[0, 0],1.5 vs [0, 0],1.5 : nan\n",
      "[0, 0],1.5 vs [0, 0],5 : 0.000221667836214\n",
      "[0, 0],1.5 vs [0, 4],0 : 0.279608693987\n",
      "[0, 0],1.5 vs [0, 4],0.5 : 0.670354982906\n",
      "[0, 0],1.5 vs [0, 4],1.5 : 0.489461731191\n",
      "[0, 0],1.5 vs [0, 4],5 : 0.200179274577\n",
      "[0, 0],1.5 vs [4, 8],0 : 0.217194922305\n",
      "[0, 0],1.5 vs [4, 8],0.5 : 0.81439449556\n",
      "[0, 0],1.5 vs [4, 8],1.5 : 0.108326641889\n",
      "[0, 0],1.5 vs [4, 8],5 : 3.55632674559e-05\n",
      "[0, 0],1.5 vs [6, 12],0 : 0.0975450036017\n",
      "[0, 0],1.5 vs [6, 12],0.5 : 0.520306562905\n",
      "[0, 0],1.5 vs [6, 12],1.5 : 0.0292499211624\n",
      "[0, 0],1.5 vs [6, 12],5 : 5.59748895045e-06\n",
      "[0, 0],5 vs [0, 0],0 : 0.000757375577281\n",
      "[0, 0],5 vs [0, 0],0.5 : 0.000977343449788\n",
      "[0, 0],5 vs [0, 0],1.5 : 0.000221667836214\n",
      "[0, 0],5 vs [0, 0],5 : nan\n",
      "[0, 0],5 vs [0, 4],0 : 0.000360324097004\n",
      "[0, 0],5 vs [0, 4],0.5 : 0.000549007721511\n",
      "[0, 0],5 vs [0, 4],1.5 : 0.000974132142269\n",
      "[0, 0],5 vs [0, 4],5 : 0.003465919\n",
      "[0, 0],5 vs [4, 8],0 : 0.00180396233466\n",
      "[0, 0],5 vs [4, 8],0.5 : 0.000526017925843\n",
      "[0, 0],5 vs [4, 8],1.5 : 0.00919908841215\n",
      "[0, 0],5 vs [4, 8],5 : 0.38616229321\n",
      "[0, 0],5 vs [6, 12],0 : 0.00533065795848\n",
      "[0, 0],5 vs [6, 12],0.5 : 0.00164040891389\n",
      "[0, 0],5 vs [6, 12],1.5 : 0.0129269013247\n",
      "[0, 0],5 vs [6, 12],5 : 0.69763047219\n",
      "[0, 4],0 vs [0, 0],0 : 0.872288363084\n",
      "[0, 4],0 vs [0, 0],0.5 : 0.930811405872\n",
      "[0, 4],0 vs [0, 0],1.5 : 0.279608693987\n",
      "[0, 4],0 vs [0, 0],5 : 0.000360324097004\n",
      "[0, 4],0 vs [0, 4],0 : nan\n",
      "[0, 4],0 vs [0, 4],0.5 : 0.594502686775\n",
      "[0, 4],0 vs [0, 4],1.5 : 0.422571628134\n",
      "[0, 4],0 vs [0, 4],5 : 0.30998232489\n",
      "[0, 4],0 vs [4, 8],0 : 0.78951796833\n",
      "[0, 4],0 vs [4, 8],0.5 : 0.37319877266\n",
      "[0, 4],0 vs [4, 8],1.5 : 0.374803391554\n",
      "[0, 4],0 vs [4, 8],5 : 4.11231693328e-05\n",
      "[0, 4],0 vs [6, 12],0 : 0.598545215717\n",
      "[0, 4],0 vs [6, 12],0.5 : 0.768457173043\n",
      "[0, 4],0 vs [6, 12],1.5 : 0.135570239718\n",
      "[0, 4],0 vs [6, 12],5 : 9.52137778779e-06\n",
      "[0, 4],0.5 vs [0, 0],0 : 0.574717331104\n",
      "[0, 4],0.5 vs [0, 0],0.5 : 0.659621086862\n",
      "[0, 4],0.5 vs [0, 0],1.5 : 0.670354982906\n",
      "[0, 4],0.5 vs [0, 0],5 : 0.000549007721511\n",
      "[0, 4],0.5 vs [0, 4],0 : 0.594502686775\n",
      "[0, 4],0.5 vs [0, 4],0.5 : nan\n",
      "[0, 4],0.5 vs [0, 4],1.5 : 0.836327473326\n",
      "[0, 4],0.5 vs [0, 4],5 : 0.374348853141\n",
      "[0, 4],0.5 vs [4, 8],0 : 0.48299524996\n",
      "[0, 4],0.5 vs [4, 8],0.5 : 0.862651839402\n",
      "[0, 4],0.5 vs [4, 8],1.5 : 0.200179274577\n",
      "[0, 4],0.5 vs [4, 8],5 : 1.90768467264e-05\n",
      "[0, 4],0.5 vs [6, 12],0 : 0.371711055996\n",
      "[0, 4],0.5 vs [6, 12],0.5 : 0.870322532392\n",
      "[0, 4],0.5 vs [6, 12],1.5 : 0.0834681558244\n",
      "[0, 4],0.5 vs [6, 12],5 : 3.50072716961e-05\n",
      "[0, 4],1.5 vs [0, 0],0 : 0.343436396138\n",
      "[0, 4],1.5 vs [0, 0],0.5 : 0.77353218863\n",
      "[0, 4],1.5 vs [0, 0],1.5 : 0.489461731191\n",
      "[0, 4],1.5 vs [0, 0],5 : 0.000974132142269\n",
      "[0, 4],1.5 vs [0, 4],0 : 0.422571628134\n",
      "[0, 4],1.5 vs [0, 4],0.5 : 0.836327473326\n",
      "[0, 4],1.5 vs [0, 4],1.5 : nan\n",
      "[0, 4],1.5 vs [0, 4],5 : 0.102208760916\n",
      "[0, 4],1.5 vs [4, 8],0 : 0.343436396138\n",
      "[0, 4],1.5 vs [4, 8],0.5 : 0.637032083207\n",
      "[0, 4],1.5 vs [4, 8],1.5 : 0.119665212529\n",
      "[0, 4],1.5 vs [4, 8],5 : 4.35838573782e-06\n",
      "[0, 4],1.5 vs [6, 12],0 : 0.355722548823\n",
      "[0, 4],1.5 vs [6, 12],0.5 : 1.0\n",
      "[0, 4],1.5 vs [6, 12],1.5 : 0.0510586449191\n",
      "[0, 4],1.5 vs [6, 12],5 : 7.30295244286e-07\n",
      "[0, 4],5 vs [0, 0],0 : 0.467869806395\n",
      "[0, 4],5 vs [0, 0],0.5 : 0.555445442106\n",
      "[0, 4],5 vs [0, 0],1.5 : 0.200179274577\n",
      "[0, 4],5 vs [0, 0],5 : 0.003465919\n",
      "[0, 4],5 vs [0, 4],0 : 0.30998232489\n",
      "[0, 4],5 vs [0, 4],0.5 : 0.374348853141\n",
      "[0, 4],5 vs [0, 4],1.5 : 0.102208760916\n",
      "[0, 4],5 vs [0, 4],5 : nan\n",
      "[0, 4],5 vs [4, 8],0 : 0.614117254808\n",
      "[0, 4],5 vs [4, 8],0.5 : 0.266814679747\n",
      "[0, 4],5 vs [4, 8],1.5 : 0.733138108117\n",
      "[0, 4],5 vs [4, 8],5 : 5.4166329892e-05\n",
      "[0, 4],5 vs [6, 12],0 : 1.0\n",
      "[0, 4],5 vs [6, 12],0.5 : 0.469381596696\n",
      "[0, 4],5 vs [6, 12],1.5 : 0.350400912653\n",
      "[0, 4],5 vs [6, 12],5 : 2.0041601408e-06\n",
      "[4, 8],0 vs [0, 0],0 : 0.904338428508\n",
      "[4, 8],0 vs [0, 0],0.5 : 0.768616004243\n",
      "[4, 8],0 vs [0, 0],1.5 : 0.217194922305\n",
      "[4, 8],0 vs [0, 0],5 : 0.00180396233466\n",
      "[4, 8],0 vs [0, 4],0 : 0.78951796833\n",
      "[4, 8],0 vs [0, 4],0.5 : 0.48299524996\n",
      "[4, 8],0 vs [0, 4],1.5 : 0.343436396138\n",
      "[4, 8],0 vs [0, 4],5 : 0.614117254808\n",
      "[4, 8],0 vs [4, 8],0 : nan\n",
      "[4, 8],0 vs [4, 8],0.5 : 0.0738115128053\n",
      "[4, 8],0 vs [4, 8],1.5 : 0.278872999249\n",
      "[4, 8],0 vs [4, 8],5 : 8.62154045133e-05\n",
      "[4, 8],0 vs [6, 12],0 : 0.618280520345\n",
      "[4, 8],0 vs [6, 12],0.5 : 0.661780330519\n",
      "[4, 8],0 vs [6, 12],1.5 : 0.0450854512423\n",
      "[4, 8],0 vs [6, 12],5 : 2.71034070032e-05\n",
      "[4, 8],0.5 vs [0, 0],0 : 0.349637538212\n",
      "[4, 8],0.5 vs [0, 0],0.5 : 0.515174220164\n",
      "[4, 8],0.5 vs [0, 0],1.5 : 0.81439449556\n",
      "[4, 8],0.5 vs [0, 0],5 : 0.000526017925843\n",
      "[4, 8],0.5 vs [0, 4],0 : 0.37319877266\n",
      "[4, 8],0.5 vs [0, 4],0.5 : 0.862651839402\n",
      "[4, 8],0.5 vs [0, 4],1.5 : 0.637032083207\n",
      "[4, 8],0.5 vs [0, 4],5 : 0.266814679747\n",
      "[4, 8],0.5 vs [4, 8],0 : 0.0738115128053\n",
      "[4, 8],0.5 vs [4, 8],0.5 : nan\n",
      "[4, 8],0.5 vs [4, 8],1.5 : 0.12404397336\n",
      "[4, 8],0.5 vs [4, 8],5 : 7.90874605991e-05\n",
      "[4, 8],0.5 vs [6, 12],0 : 0.212579892323\n",
      "[4, 8],0.5 vs [6, 12],0.5 : 0.792670719264\n",
      "[4, 8],0.5 vs [6, 12],1.5 : 0.0281364781818\n",
      "[4, 8],0.5 vs [6, 12],5 : 6.96457127773e-05\n",
      "[4, 8],1.5 vs [0, 0],0 : 0.380856181241\n",
      "[4, 8],1.5 vs [0, 0],0.5 : 0.313284325528\n",
      "[4, 8],1.5 vs [0, 0],1.5 : 0.108326641889\n",
      "[4, 8],1.5 vs [0, 0],5 : 0.00919908841215\n",
      "[4, 8],1.5 vs [0, 4],0 : 0.374803391554\n",
      "[4, 8],1.5 vs [0, 4],0.5 : 0.200179274577\n",
      "[4, 8],1.5 vs [0, 4],1.5 : 0.119665212529\n",
      "[4, 8],1.5 vs [0, 4],5 : 0.733138108117\n",
      "[4, 8],1.5 vs [4, 8],0 : 0.278872999249\n",
      "[4, 8],1.5 vs [4, 8],0.5 : 0.12404397336\n",
      "[4, 8],1.5 vs [4, 8],1.5 : nan\n",
      "[4, 8],1.5 vs [4, 8],5 : 0.000188300530477\n",
      "[4, 8],1.5 vs [6, 12],0 : 0.657234674532\n",
      "[4, 8],1.5 vs [6, 12],0.5 : 0.193422059603\n",
      "[4, 8],1.5 vs [6, 12],1.5 : 0.222868350134\n",
      "[4, 8],1.5 vs [6, 12],5 : 2.87861162111e-05\n",
      "[4, 8],5 vs [0, 0],0 : 4.54870480106e-05\n",
      "[4, 8],5 vs [0, 0],0.5 : 0.000116178038551\n",
      "[4, 8],5 vs [0, 0],1.5 : 3.55632674559e-05\n",
      "[4, 8],5 vs [0, 0],5 : 0.38616229321\n",
      "[4, 8],5 vs [0, 4],0 : 4.11231693328e-05\n",
      "[4, 8],5 vs [0, 4],0.5 : 1.90768467264e-05\n",
      "[4, 8],5 vs [0, 4],1.5 : 4.35838573782e-06\n",
      "[4, 8],5 vs [0, 4],5 : 5.4166329892e-05\n",
      "[4, 8],5 vs [4, 8],0 : 8.62154045133e-05\n",
      "[4, 8],5 vs [4, 8],0.5 : 7.90874605991e-05\n",
      "[4, 8],5 vs [4, 8],1.5 : 0.000188300530477\n",
      "[4, 8],5 vs [4, 8],5 : nan\n",
      "[4, 8],5 vs [6, 12],0 : 0.00184149181249\n",
      "[4, 8],5 vs [6, 12],0.5 : 0.000319703334793\n",
      "[4, 8],5 vs [6, 12],1.5 : 0.00132295058427\n",
      "[4, 8],5 vs [6, 12],5 : 0.24032534938\n",
      "[6, 12],0 vs [0, 0],0 : 0.642415137721\n",
      "[6, 12],0 vs [0, 0],0.5 : 0.399361359045\n",
      "[6, 12],0 vs [0, 0],1.5 : 0.0975450036017\n",
      "[6, 12],0 vs [0, 0],5 : 0.00533065795848\n",
      "[6, 12],0 vs [0, 4],0 : 0.598545215717\n",
      "[6, 12],0 vs [0, 4],0.5 : 0.371711055996\n",
      "[6, 12],0 vs [0, 4],1.5 : 0.355722548823\n",
      "[6, 12],0 vs [0, 4],5 : 1.0\n",
      "[6, 12],0 vs [4, 8],0 : 0.618280520345\n",
      "[6, 12],0 vs [4, 8],0.5 : 0.212579892323\n",
      "[6, 12],0 vs [4, 8],1.5 : 0.657234674532\n",
      "[6, 12],0 vs [4, 8],5 : 0.00184149181249\n",
      "[6, 12],0 vs [6, 12],0 : nan\n",
      "[6, 12],0 vs [6, 12],0.5 : 0.192605897169\n",
      "[6, 12],0 vs [6, 12],1.5 : 0.154376758728\n",
      "[6, 12],0 vs [6, 12],5 : 0.000117767508686\n",
      "[6, 12],0.5 vs [0, 0],0 : 0.715073978679\n",
      "[6, 12],0.5 vs [0, 0],0.5 : 0.748496030914\n",
      "[6, 12],0.5 vs [0, 0],1.5 : 0.520306562905\n",
      "[6, 12],0.5 vs [0, 0],5 : 0.00164040891389\n",
      "[6, 12],0.5 vs [0, 4],0 : 0.768457173043\n",
      "[6, 12],0.5 vs [0, 4],0.5 : 0.870322532392\n",
      "[6, 12],0.5 vs [0, 4],1.5 : 1.0\n",
      "[6, 12],0.5 vs [0, 4],5 : 0.469381596696\n",
      "[6, 12],0.5 vs [4, 8],0 : 0.661780330519\n",
      "[6, 12],0.5 vs [4, 8],0.5 : 0.792670719264\n",
      "[6, 12],0.5 vs [4, 8],1.5 : 0.193422059603\n",
      "[6, 12],0.5 vs [4, 8],5 : 0.000319703334793\n",
      "[6, 12],0.5 vs [6, 12],0 : 0.192605897169\n",
      "[6, 12],0.5 vs [6, 12],0.5 : nan\n",
      "[6, 12],0.5 vs [6, 12],1.5 : 0.0673215389263\n",
      "[6, 12],0.5 vs [6, 12],5 : 1.53620444913e-05\n",
      "[6, 12],1.5 vs [0, 0],0 : 0.198857458502\n",
      "[6, 12],1.5 vs [0, 0],0.5 : 0.098458924549\n",
      "[6, 12],1.5 vs [0, 0],1.5 : 0.0292499211624\n",
      "[6, 12],1.5 vs [0, 0],5 : 0.0129269013247\n",
      "[6, 12],1.5 vs [0, 4],0 : 0.135570239718\n",
      "[6, 12],1.5 vs [0, 4],0.5 : 0.0834681558244\n",
      "[6, 12],1.5 vs [0, 4],1.5 : 0.0510586449191\n",
      "[6, 12],1.5 vs [0, 4],5 : 0.350400912653\n",
      "[6, 12],1.5 vs [4, 8],0 : 0.0450854512423\n",
      "[6, 12],1.5 vs [4, 8],0.5 : 0.0281364781818\n",
      "[6, 12],1.5 vs [4, 8],1.5 : 0.222868350134\n",
      "[6, 12],1.5 vs [4, 8],5 : 0.00132295058427\n",
      "[6, 12],1.5 vs [6, 12],0 : 0.154376758728\n",
      "[6, 12],1.5 vs [6, 12],0.5 : 0.0673215389263\n",
      "[6, 12],1.5 vs [6, 12],1.5 : nan\n",
      "[6, 12],1.5 vs [6, 12],5 : 0.000309522177213\n",
      "[6, 12],5 vs [0, 0],0 : 1.70813931557e-06\n",
      "[6, 12],5 vs [0, 0],0.5 : 5.66256779278e-06\n",
      "[6, 12],5 vs [0, 0],1.5 : 5.59748895045e-06\n",
      "[6, 12],5 vs [0, 0],5 : 0.69763047219\n",
      "[6, 12],5 vs [0, 4],0 : 9.52137778779e-06\n",
      "[6, 12],5 vs [0, 4],0.5 : 3.50072716961e-05\n",
      "[6, 12],5 vs [0, 4],1.5 : 7.30295244286e-07\n",
      "[6, 12],5 vs [0, 4],5 : 2.0041601408e-06\n",
      "[6, 12],5 vs [4, 8],0 : 2.71034070032e-05\n",
      "[6, 12],5 vs [4, 8],0.5 : 6.96457127773e-05\n",
      "[6, 12],5 vs [4, 8],1.5 : 2.87861162111e-05\n",
      "[6, 12],5 vs [4, 8],5 : 0.24032534938\n",
      "[6, 12],5 vs [6, 12],0 : 0.000117767508686\n",
      "[6, 12],5 vs [6, 12],0.5 : 1.53620444913e-05\n",
      "[6, 12],5 vs [6, 12],1.5 : 0.000309522177213\n",
      "[6, 12],5 vs [6, 12],5 : nan\n"
     ]
    }
   ],
   "source": [
    "np.set_printoptions(precision=5)\n",
    "for key in p_values.keys():\n",
    "    print(key, ':', p_values[key])\n"
   ]
  },
  {
   "cell_type": "code",
   "execution_count": 36,
   "metadata": {},
   "outputs": [
    {
     "name": "stderr",
     "output_type": "stream",
     "text": [
      "100%|██████████| 2009/2009 [00:12<00:00, 159.40it/s]\n"
     ]
    }
   ],
   "source": [
    "# CREATING TABLE 6 retraining with blind test set\n",
    "\n",
    "data = DataHandler(file_dir)\n",
    "data.readOurData()\n",
    "\n",
    "train_blind = DataHandler()\n",
    "test_blind  = DataHandler()\n",
    "\n",
    "train, test = data.blind_test()\n",
    "train_blind(train.x_train, train.y_train)\n",
    "test_blind(test.x_train, test.y_train)\n",
    "\n",
    "train_blind.roundRobinSplit(10)"
   ]
  },
  {
   "cell_type": "code",
   "execution_count": 39,
   "metadata": {},
   "outputs": [
    {
     "name": "stderr",
     "output_type": "stream",
     "text": [
      "\r",
      "  0%|          | 0/10 [00:00<?, ?it/s]"
     ]
    },
    {
     "name": "stdout",
     "output_type": "stream",
     "text": [
      "table1, thr=0, kappa=0\n"
     ]
    },
    {
     "name": "stderr",
     "output_type": "stream",
     "text": [
      "100%|██████████| 10/10 [00:23<00:00,  2.37s/it]\n",
      "  0%|          | 0/10 [00:00<?, ?it/s]"
     ]
    },
    {
     "name": "stdout",
     "output_type": "stream",
     "text": [
      "table1, thr=0, kappa=0.5\n"
     ]
    },
    {
     "name": "stderr",
     "output_type": "stream",
     "text": [
      "100%|██████████| 10/10 [00:23<00:00,  2.34s/it]\n",
      "  0%|          | 0/10 [00:00<?, ?it/s]"
     ]
    },
    {
     "name": "stdout",
     "output_type": "stream",
     "text": [
      "table1, thr=0, kappa=1.5\n"
     ]
    },
    {
     "name": "stderr",
     "output_type": "stream",
     "text": [
      "100%|██████████| 10/10 [00:24<00:00,  2.42s/it]\n",
      "  0%|          | 0/10 [00:00<?, ?it/s]"
     ]
    },
    {
     "name": "stdout",
     "output_type": "stream",
     "text": [
      "table1, thr=0, kappa=5\n"
     ]
    },
    {
     "name": "stderr",
     "output_type": "stream",
     "text": [
      "100%|██████████| 10/10 [00:31<00:00,  3.19s/it]\n",
      "  0%|          | 0/10 [00:00<?, ?it/s]"
     ]
    },
    {
     "name": "stdout",
     "output_type": "stream",
     "text": [
      "table1, thr=4, kappa=0\n"
     ]
    },
    {
     "name": "stderr",
     "output_type": "stream",
     "text": [
      "100%|██████████| 10/10 [00:26<00:00,  2.64s/it]\n",
      "  0%|          | 0/10 [00:00<?, ?it/s]"
     ]
    },
    {
     "name": "stdout",
     "output_type": "stream",
     "text": [
      "table1, thr=4, kappa=0.5\n"
     ]
    },
    {
     "name": "stderr",
     "output_type": "stream",
     "text": [
      "100%|██████████| 10/10 [00:25<00:00,  2.57s/it]\n",
      "  0%|          | 0/10 [00:00<?, ?it/s]"
     ]
    },
    {
     "name": "stdout",
     "output_type": "stream",
     "text": [
      "table1, thr=4, kappa=1.5\n"
     ]
    },
    {
     "name": "stderr",
     "output_type": "stream",
     "text": [
      "100%|██████████| 10/10 [00:24<00:00,  2.48s/it]\n",
      "  0%|          | 0/10 [00:00<?, ?it/s]"
     ]
    },
    {
     "name": "stdout",
     "output_type": "stream",
     "text": [
      "table1, thr=4, kappa=5\n"
     ]
    },
    {
     "name": "stderr",
     "output_type": "stream",
     "text": [
      "100%|██████████| 10/10 [00:24<00:00,  2.45s/it]\n",
      "  0%|          | 0/10 [00:00<?, ?it/s]"
     ]
    },
    {
     "name": "stdout",
     "output_type": "stream",
     "text": [
      "table1, thr=8, kappa=0\n"
     ]
    },
    {
     "name": "stderr",
     "output_type": "stream",
     "text": [
      "100%|██████████| 10/10 [00:23<00:00,  2.39s/it]\n",
      "  0%|          | 0/10 [00:00<?, ?it/s]"
     ]
    },
    {
     "name": "stdout",
     "output_type": "stream",
     "text": [
      "table1, thr=8, kappa=0.5\n"
     ]
    },
    {
     "name": "stderr",
     "output_type": "stream",
     "text": [
      "100%|██████████| 10/10 [00:25<00:00,  2.58s/it]\n",
      "  0%|          | 0/10 [00:00<?, ?it/s]"
     ]
    },
    {
     "name": "stdout",
     "output_type": "stream",
     "text": [
      "table1, thr=8, kappa=1.5\n"
     ]
    },
    {
     "name": "stderr",
     "output_type": "stream",
     "text": [
      "100%|██████████| 10/10 [00:24<00:00,  2.41s/it]\n",
      "  0%|          | 0/10 [00:00<?, ?it/s]"
     ]
    },
    {
     "name": "stdout",
     "output_type": "stream",
     "text": [
      "table1, thr=8, kappa=5\n"
     ]
    },
    {
     "name": "stderr",
     "output_type": "stream",
     "text": [
      "100%|██████████| 10/10 [00:22<00:00,  2.30s/it]\n",
      "  0%|          | 0/10 [00:00<?, ?it/s]"
     ]
    },
    {
     "name": "stdout",
     "output_type": "stream",
     "text": [
      "table1, thr=12, kappa=0\n"
     ]
    },
    {
     "name": "stderr",
     "output_type": "stream",
     "text": [
      "100%|██████████| 10/10 [00:23<00:00,  2.30s/it]\n",
      "  0%|          | 0/10 [00:00<?, ?it/s]"
     ]
    },
    {
     "name": "stdout",
     "output_type": "stream",
     "text": [
      "table1, thr=12, kappa=0.5\n"
     ]
    },
    {
     "name": "stderr",
     "output_type": "stream",
     "text": [
      "100%|██████████| 10/10 [00:22<00:00,  2.24s/it]\n",
      "  0%|          | 0/10 [00:00<?, ?it/s]"
     ]
    },
    {
     "name": "stdout",
     "output_type": "stream",
     "text": [
      "table1, thr=12, kappa=1.5\n"
     ]
    },
    {
     "name": "stderr",
     "output_type": "stream",
     "text": [
      "100%|██████████| 10/10 [00:22<00:00,  2.29s/it]\n",
      "  0%|          | 0/10 [00:00<?, ?it/s]"
     ]
    },
    {
     "name": "stdout",
     "output_type": "stream",
     "text": [
      "table1, thr=12, kappa=5\n"
     ]
    },
    {
     "name": "stderr",
     "output_type": "stream",
     "text": [
      "100%|██████████| 10/10 [00:25<00:00,  2.58s/it]\n",
      "  0%|          | 0/10 [00:00<?, ?it/s]"
     ]
    },
    {
     "name": "stdout",
     "output_type": "stream",
     "text": [
      "table1, thr=0, kappa=0\n"
     ]
    },
    {
     "name": "stderr",
     "output_type": "stream",
     "text": [
      "100%|██████████| 10/10 [01:10<00:00,  7.06s/it]\n",
      "  0%|          | 0/10 [00:00<?, ?it/s]"
     ]
    },
    {
     "name": "stdout",
     "output_type": "stream",
     "text": [
      "table1, thr=0, kappa=0.5\n"
     ]
    },
    {
     "name": "stderr",
     "output_type": "stream",
     "text": [
      "100%|██████████| 10/10 [01:03<00:00,  6.34s/it]\n",
      "  0%|          | 0/10 [00:00<?, ?it/s]"
     ]
    },
    {
     "name": "stdout",
     "output_type": "stream",
     "text": [
      "table1, thr=0, kappa=1.5\n"
     ]
    },
    {
     "name": "stderr",
     "output_type": "stream",
     "text": [
      "100%|██████████| 10/10 [00:59<00:00,  5.94s/it]\n",
      "  0%|          | 0/10 [00:00<?, ?it/s]"
     ]
    },
    {
     "name": "stdout",
     "output_type": "stream",
     "text": [
      "table1, thr=0, kappa=5\n"
     ]
    },
    {
     "name": "stderr",
     "output_type": "stream",
     "text": [
      "100%|██████████| 10/10 [01:08<00:00,  6.83s/it]\n",
      "  0%|          | 0/10 [00:00<?, ?it/s]"
     ]
    },
    {
     "name": "stdout",
     "output_type": "stream",
     "text": [
      "table1, thr=4, kappa=0\n"
     ]
    },
    {
     "name": "stderr",
     "output_type": "stream",
     "text": [
      "100%|██████████| 10/10 [01:00<00:00,  6.10s/it]\n",
      "  0%|          | 0/10 [00:00<?, ?it/s]"
     ]
    },
    {
     "name": "stdout",
     "output_type": "stream",
     "text": [
      "table1, thr=4, kappa=0.5\n"
     ]
    },
    {
     "name": "stderr",
     "output_type": "stream",
     "text": [
      "100%|██████████| 10/10 [01:01<00:00,  6.16s/it]\n",
      "  0%|          | 0/10 [00:00<?, ?it/s]"
     ]
    },
    {
     "name": "stdout",
     "output_type": "stream",
     "text": [
      "table1, thr=4, kappa=1.5\n"
     ]
    },
    {
     "name": "stderr",
     "output_type": "stream",
     "text": [
      "100%|██████████| 10/10 [01:00<00:00,  6.05s/it]\n",
      "  0%|          | 0/10 [00:00<?, ?it/s]"
     ]
    },
    {
     "name": "stdout",
     "output_type": "stream",
     "text": [
      "table1, thr=4, kappa=5\n"
     ]
    },
    {
     "name": "stderr",
     "output_type": "stream",
     "text": [
      "100%|██████████| 10/10 [01:01<00:00,  6.14s/it]\n",
      "  0%|          | 0/10 [00:00<?, ?it/s]"
     ]
    },
    {
     "name": "stdout",
     "output_type": "stream",
     "text": [
      "table1, thr=8, kappa=0\n"
     ]
    },
    {
     "name": "stderr",
     "output_type": "stream",
     "text": [
      "100%|██████████| 10/10 [00:59<00:00,  5.95s/it]\n",
      "  0%|          | 0/10 [00:00<?, ?it/s]"
     ]
    },
    {
     "name": "stdout",
     "output_type": "stream",
     "text": [
      "table1, thr=8, kappa=0.5\n"
     ]
    },
    {
     "name": "stderr",
     "output_type": "stream",
     "text": [
      "100%|██████████| 10/10 [01:01<00:00,  6.13s/it]\n",
      "  0%|          | 0/10 [00:00<?, ?it/s]"
     ]
    },
    {
     "name": "stdout",
     "output_type": "stream",
     "text": [
      "table1, thr=8, kappa=1.5\n"
     ]
    },
    {
     "name": "stderr",
     "output_type": "stream",
     "text": [
      "100%|██████████| 10/10 [01:02<00:00,  6.22s/it]\n",
      "  0%|          | 0/10 [00:00<?, ?it/s]"
     ]
    },
    {
     "name": "stdout",
     "output_type": "stream",
     "text": [
      "table1, thr=8, kappa=5\n"
     ]
    },
    {
     "name": "stderr",
     "output_type": "stream",
     "text": [
      "100%|██████████| 10/10 [01:09<00:00,  6.93s/it]\n",
      "  0%|          | 0/10 [00:00<?, ?it/s]"
     ]
    },
    {
     "name": "stdout",
     "output_type": "stream",
     "text": [
      "table1, thr=12, kappa=0\n"
     ]
    },
    {
     "name": "stderr",
     "output_type": "stream",
     "text": [
      "100%|██████████| 10/10 [00:59<00:00,  5.95s/it]\n",
      "  0%|          | 0/10 [00:00<?, ?it/s]"
     ]
    },
    {
     "name": "stdout",
     "output_type": "stream",
     "text": [
      "table1, thr=12, kappa=0.5\n"
     ]
    },
    {
     "name": "stderr",
     "output_type": "stream",
     "text": [
      "100%|██████████| 10/10 [00:59<00:00,  5.92s/it]\n",
      "  0%|          | 0/10 [00:00<?, ?it/s]"
     ]
    },
    {
     "name": "stdout",
     "output_type": "stream",
     "text": [
      "table1, thr=12, kappa=1.5\n"
     ]
    },
    {
     "name": "stderr",
     "output_type": "stream",
     "text": [
      "100%|██████████| 10/10 [00:58<00:00,  5.82s/it]\n",
      "  0%|          | 0/10 [00:00<?, ?it/s]"
     ]
    },
    {
     "name": "stdout",
     "output_type": "stream",
     "text": [
      "table1, thr=12, kappa=5\n"
     ]
    },
    {
     "name": "stderr",
     "output_type": "stream",
     "text": [
      "100%|██████████| 10/10 [01:07<00:00,  6.79s/it]\n",
      "  0%|          | 0/10 [00:00<?, ?it/s]"
     ]
    },
    {
     "name": "stdout",
     "output_type": "stream",
     "text": [
      "table1, thr=[0, 0], kappa=0\n"
     ]
    },
    {
     "name": "stderr",
     "output_type": "stream",
     "text": [
      "100%|██████████| 10/10 [01:29<00:00,  8.97s/it]\n",
      "  0%|          | 0/10 [00:00<?, ?it/s]"
     ]
    },
    {
     "name": "stdout",
     "output_type": "stream",
     "text": [
      "table1, thr=[0, 0], kappa=0.5\n"
     ]
    },
    {
     "name": "stderr",
     "output_type": "stream",
     "text": [
      "100%|██████████| 10/10 [01:26<00:00,  8.68s/it]\n",
      "  0%|          | 0/10 [00:00<?, ?it/s]"
     ]
    },
    {
     "name": "stdout",
     "output_type": "stream",
     "text": [
      "table1, thr=[0, 0], kappa=1.5\n"
     ]
    },
    {
     "name": "stderr",
     "output_type": "stream",
     "text": [
      "100%|██████████| 10/10 [01:25<00:00,  8.58s/it]\n",
      "  0%|          | 0/10 [00:00<?, ?it/s]"
     ]
    },
    {
     "name": "stdout",
     "output_type": "stream",
     "text": [
      "table1, thr=[0, 0], kappa=5\n"
     ]
    },
    {
     "name": "stderr",
     "output_type": "stream",
     "text": [
      "100%|██████████| 10/10 [01:40<00:00, 10.04s/it]\n",
      "  0%|          | 0/10 [00:00<?, ?it/s]"
     ]
    },
    {
     "name": "stdout",
     "output_type": "stream",
     "text": [
      "table1, thr=[0, 4], kappa=0\n"
     ]
    },
    {
     "name": "stderr",
     "output_type": "stream",
     "text": [
      "100%|██████████| 10/10 [01:33<00:00,  9.33s/it]\n",
      "  0%|          | 0/10 [00:00<?, ?it/s]"
     ]
    },
    {
     "name": "stdout",
     "output_type": "stream",
     "text": [
      "table1, thr=[0, 4], kappa=0.5\n"
     ]
    },
    {
     "name": "stderr",
     "output_type": "stream",
     "text": [
      "100%|██████████| 10/10 [01:28<00:00,  8.88s/it]\n",
      "  0%|          | 0/10 [00:00<?, ?it/s]"
     ]
    },
    {
     "name": "stdout",
     "output_type": "stream",
     "text": [
      "table1, thr=[0, 4], kappa=1.5\n"
     ]
    },
    {
     "name": "stderr",
     "output_type": "stream",
     "text": [
      "100%|██████████| 10/10 [01:33<00:00,  9.31s/it]\n",
      "  0%|          | 0/10 [00:00<?, ?it/s]"
     ]
    },
    {
     "name": "stdout",
     "output_type": "stream",
     "text": [
      "table1, thr=[0, 4], kappa=5\n"
     ]
    },
    {
     "name": "stderr",
     "output_type": "stream",
     "text": [
      "100%|██████████| 10/10 [01:38<00:00,  9.89s/it]\n",
      "  0%|          | 0/10 [00:00<?, ?it/s]"
     ]
    },
    {
     "name": "stdout",
     "output_type": "stream",
     "text": [
      "table1, thr=[4, 8], kappa=0\n"
     ]
    },
    {
     "name": "stderr",
     "output_type": "stream",
     "text": [
      "100%|██████████| 10/10 [01:24<00:00,  8.47s/it]\n",
      "  0%|          | 0/10 [00:00<?, ?it/s]"
     ]
    },
    {
     "name": "stdout",
     "output_type": "stream",
     "text": [
      "table1, thr=[4, 8], kappa=0.5\n"
     ]
    },
    {
     "name": "stderr",
     "output_type": "stream",
     "text": [
      "100%|██████████| 10/10 [01:30<00:00,  9.10s/it]\n",
      "  0%|          | 0/10 [00:00<?, ?it/s]"
     ]
    },
    {
     "name": "stdout",
     "output_type": "stream",
     "text": [
      "table1, thr=[4, 8], kappa=1.5\n"
     ]
    },
    {
     "name": "stderr",
     "output_type": "stream",
     "text": [
      "100%|██████████| 10/10 [01:26<00:00,  8.63s/it]\n",
      "  0%|          | 0/10 [00:00<?, ?it/s]"
     ]
    },
    {
     "name": "stdout",
     "output_type": "stream",
     "text": [
      "table1, thr=[4, 8], kappa=5\n"
     ]
    },
    {
     "name": "stderr",
     "output_type": "stream",
     "text": [
      "100%|██████████| 10/10 [01:28<00:00,  8.88s/it]\n",
      "  0%|          | 0/10 [00:00<?, ?it/s]"
     ]
    },
    {
     "name": "stdout",
     "output_type": "stream",
     "text": [
      "table1, thr=[6, 12], kappa=0\n"
     ]
    },
    {
     "name": "stderr",
     "output_type": "stream",
     "text": [
      "100%|██████████| 10/10 [01:22<00:00,  8.23s/it]\n",
      "  0%|          | 0/10 [00:00<?, ?it/s]"
     ]
    },
    {
     "name": "stdout",
     "output_type": "stream",
     "text": [
      "table1, thr=[6, 12], kappa=0.5\n"
     ]
    },
    {
     "name": "stderr",
     "output_type": "stream",
     "text": [
      "100%|██████████| 10/10 [01:27<00:00,  8.74s/it]\n",
      "  0%|          | 0/10 [00:00<?, ?it/s]"
     ]
    },
    {
     "name": "stdout",
     "output_type": "stream",
     "text": [
      "table1, thr=[6, 12], kappa=1.5\n"
     ]
    },
    {
     "name": "stderr",
     "output_type": "stream",
     "text": [
      "100%|██████████| 10/10 [01:22<00:00,  8.29s/it]\n",
      "  0%|          | 0/10 [00:00<?, ?it/s]"
     ]
    },
    {
     "name": "stdout",
     "output_type": "stream",
     "text": [
      "table1, thr=[6, 12], kappa=5\n"
     ]
    },
    {
     "name": "stderr",
     "output_type": "stream",
     "text": [
      "100%|██████████| 10/10 [01:26<00:00,  8.65s/it]\n"
     ]
    }
   ],
   "source": [
    "table1 = np.zeros((4,4))\n",
    "table2 = np.zeros((4,4))\n",
    "table3 = np.zeros((4,4))\n",
    "\n",
    "predictions1 = {}\n",
    "\n",
    "# table1\n",
    "for idx1, threshold in enumerate([0,4,8,12]):\n",
    "    for idx2, kappa in enumerate([0,0.5,1.5,5]):\n",
    "        print('table1, thr={}, kappa={}'.format(threshold, kappa))\n",
    "        acc = Metrics.roundRobinCV(train_blind,10,NBModel,threshold = [threshold], grams = 'uni', smoothing = kappa)\n",
    "        predictions1['M_uni(thr={},kappa={})'.format(threshold, kappa)] = acc\n",
    "        table1[idx1,idx2] = np.mean(np.array(acc))\n",
    "\n",
    "# table2\n",
    "for idx1, threshold in enumerate([0,4,8,12]):\n",
    "    for idx2, kappa in enumerate([0,0.5,1.5,5]):\n",
    "        print('table1, thr={}, kappa={}'.format(threshold, kappa))\n",
    "        acc = Metrics.roundRobinCV(train_blind,10,NBModel,threshold = [threshold], grams = 'bi', smoothing = kappa)\n",
    "        predictions1['M_bi(thr={},kappa={})'.format(threshold, kappa)] = acc\n",
    "        table2[idx1,idx2] = np.mean(np.array(acc))\n",
    "        \n",
    "# table3\n",
    "for idx1, threshold in enumerate([[0,0],[0,4],[4,8],[6,12]]):\n",
    "    for idx2, kappa in enumerate([0,0.5,1.5,5]):\n",
    "        print('table1, thr={}, kappa={}'.format(threshold, kappa))\n",
    "        acc = Metrics.roundRobinCV(train_blind,10,NBModel,threshold = threshold, grams = ['uni', 'bi'], smoothing = kappa)\n",
    "        predictions1['M_joint(thr={},kappa={})'.format(threshold, kappa)] = acc\n",
    "        table3[idx1,idx2] = np.mean(np.array(acc))"
   ]
  },
  {
   "cell_type": "code",
   "execution_count": 43,
   "metadata": {},
   "outputs": [
    {
     "name": "stdout",
     "output_type": "stream",
     "text": [
      "[[ 0.80955  0.80112  0.8073   0.78427]\n",
      " [ 0.80112  0.80225  0.79775  0.78483]\n",
      " [ 0.80674  0.80393  0.80056  0.77978]\n",
      " [ 0.79944  0.79944  0.79382  0.7736 ]]\n",
      "[[ 0.81404  0.82191  0.82079  0.75843]\n",
      " [ 0.80449  0.81461  0.79326  0.73539]\n",
      " [ 0.80562  0.81461  0.79607  0.7382 ]\n",
      " [ 0.80225  0.80562  0.78933  0.73596]]\n",
      "[[ 0.81404  0.82191  0.82079  0.75843]\n",
      " [ 0.80449  0.81461  0.79326  0.73539]\n",
      " [ 0.80562  0.81461  0.79607  0.7382 ]\n",
      " [ 0.80225  0.80562  0.78933  0.73596]]\n"
     ]
    }
   ],
   "source": [
    "print(table1)\n",
    "print(table2)\n",
    "print(table3)"
   ]
  },
  {
   "cell_type": "code",
   "execution_count": 4,
   "metadata": {},
   "outputs": [
    {
     "name": "stdout",
     "output_type": "stream",
     "text": [
      "training uni\n",
      "training bi\n",
      "training uni+bi\n"
     ]
    }
   ],
   "source": [
    "# ------------------ Training\n",
    "print(\"training uni\")\n",
    "model_uni      = NBModel(x_train, y_train, threshold = [4], grams = 'uni', smoothing = 0)\n",
    "\n",
    "print(\"training bi\")\n",
    "model_bi       = NBModel(x_train, y_train, threshold = [8], grams = 'bi', smoothing = 0)\n",
    "\n",
    "print(\"training uni+bi\")\n",
    "model_joint    = NBModel(x_train, y_train, threshold = [4,8], grams = ['uni','bi'], smoothing = 0)"
   ]
  },
  {
   "cell_type": "code",
   "execution_count": 5,
   "metadata": {
    "collapsed": true
   },
   "outputs": [],
   "source": [
    "predictions_uni, _   = model_uni.predict(x_test)\n",
    "predictions_bi, _    = model_bi.predict(x_test)\n",
    "predictions_joint, _ = model_joint.predict(x_test)\n",
    "\n",
    "model_uni_sm = model_uni\n",
    "model_bi_sm = model_bi\n",
    "model_joint_sm = model_joint\n",
    "\n",
    "model_uni_sm.smoothing = 0.5\n",
    "model_bi_sm.smoothing = 0.5\n",
    "model_joint_sm.smoothing = 0.5\n",
    "\n",
    "predictions_uni_sm, _   = model_uni.predict(x_test)\n",
    "predictions_bi_sm, _    = model_bi.predict(x_test)\n",
    "predictions_joint_sm, _ = model_joint.predict(x_test)\n",
    "\n",
    "\n",
    "accuracy_uni = Metrics.getAccuracy(predictions_uni, y_test)\n",
    "accuracy_bi = Metrics.getAccuracy(predictions_bi, y_test)\n",
    "accuracy_joint = Metrics.getAccuracy(predictions_joint, y_test)\n",
    "\n",
    "accuracy_uni_sm = Metrics.getAccuracy(predictions_uni_sm, y_test)\n",
    "accuracy_bi_sm = Metrics.getAccuracy(predictions_bi_sm, y_test)\n",
    "accuracy_joint_sm = Metrics.getAccuracy(predictions_joint_sm, y_test)"
   ]
  },
  {
   "cell_type": "code",
   "execution_count": 6,
   "metadata": {},
   "outputs": [
    {
     "name": "stdout",
     "output_type": "stream",
     "text": [
      "Uni gram accuracy no smoothing is {} 0.8208955223880597\n",
      "Bi gram accuracy no smoothing is {} 0.7164179104477612\n",
      "Uni+Bi gram accuracy no smoothing is {} 0.8109452736318408\n",
      "Uni gram accuracy with 0.5 smoothing is {} 0.8208955223880597\n",
      "Bi gram accuracy with 0.5 smoothing is {} 0.7711442786069652\n",
      "Uni+Bi gram accuracy with 0.5 smoothing is {} 0.835820895522388\n"
     ]
    }
   ],
   "source": [
    "print('Uni gram accuracy no smoothing is {}'.format(accuracy_uni))\n",
    "print('Bi gram accuracy no smoothing is {}'.format(accuracy_bi))\n",
    "print('Uni+Bi gram accuracy no smoothing is {}'.format(accuracy_joint))\n",
    "print('Uni gram accuracy with 0.5 smoothing is {}'.format(accuracy_uni_sm))\n",
    "print('Bi gram accuracy with 0.5 smoothing is {}'.format(accuracy_bi_sm))\n",
    "print('Uni+Bi gram accuracy with 0.5 smoothing is {}'.format(accuracy_joint_sm))\n"
   ]
  },
  {
   "cell_type": "markdown",
   "metadata": {},
   "source": [
    "# Sign test"
   ]
  },
  {
   "cell_type": "code",
   "execution_count": 7,
   "metadata": {
    "collapsed": true
   },
   "outputs": [],
   "source": [
    "stat_diff = np.zeros((6,6))\n",
    "predictions = [predictions_uni, predictions_bi, predictions_joint, \\\n",
    "              predictions_uni_sm, predictions_bi_sm, predictions_joint_sm]\n",
    "for i in range(6):\n",
    "    for j in range(6):\n",
    "        stat_diff[i,j] = Metrics.signTest(predictions[i], predictions[j], y_test)"
   ]
  },
  {
   "cell_type": "code",
   "execution_count": 8,
   "metadata": {},
   "outputs": [
    {
     "data": {
      "text/plain": [
       "array([[0, 1],\n",
       "       [1, 0],\n",
       "       [1, 2],\n",
       "       [1, 3],\n",
       "       [1, 5],\n",
       "       [2, 1],\n",
       "       [3, 1],\n",
       "       [5, 1]])"
      ]
     },
     "execution_count": 8,
     "metadata": {},
     "output_type": "execute_result"
    }
   ],
   "source": [
    "# These models are statistically different\n",
    "np.transpose(np.array([np.where(stat_diff < 0.05)[0], np.where(stat_diff < 0.05)[1]]))"
   ]
  },
  {
   "cell_type": "markdown",
   "metadata": {},
   "source": [
    "# Round Robin CV"
   ]
  },
  {
   "cell_type": "code",
   "execution_count": 3,
   "metadata": {
    "collapsed": true
   },
   "outputs": [],
   "source": [
    "# This time load all data into an object\n",
    "data = DataHandler(file_dir)\n",
    "data.roundRobinSplit(10, )"
   ]
  },
  {
   "cell_type": "code",
   "execution_count": 4,
   "metadata": {},
   "outputs": [
    {
     "data": {
      "text/plain": [
       "['Films',\n",
       " 'adapted',\n",
       " 'from',\n",
       " 'comic',\n",
       " 'books',\n",
       " 'have',\n",
       " 'had',\n",
       " 'plenty',\n",
       " 'of',\n",
       " 'success',\n",
       " ',',\n",
       " 'whether',\n",
       " 'they',\n",
       " \"'re\",\n",
       " 'about',\n",
       " 'superheroes',\n",
       " '-LRB-',\n",
       " 'Batman',\n",
       " ',',\n",
       " 'Superman',\n",
       " ',',\n",
       " 'Spawn',\n",
       " '-RRB-',\n",
       " ',',\n",
       " 'or',\n",
       " 'geared',\n",
       " 'toward',\n",
       " 'kids',\n",
       " '-LRB-',\n",
       " 'Casper',\n",
       " '-RRB-',\n",
       " 'or',\n",
       " 'the',\n",
       " 'arthouse',\n",
       " 'crowd',\n",
       " '-LRB-',\n",
       " 'Ghost',\n",
       " 'World',\n",
       " '-RRB-',\n",
       " ',',\n",
       " 'but',\n",
       " 'there',\n",
       " \"'s\",\n",
       " 'never',\n",
       " 'really',\n",
       " 'been',\n",
       " 'a',\n",
       " 'comic',\n",
       " 'book',\n",
       " 'like',\n",
       " 'From',\n",
       " 'Hell',\n",
       " 'before',\n",
       " '.',\n",
       " 'For',\n",
       " 'starters',\n",
       " ',',\n",
       " 'it',\n",
       " 'was',\n",
       " 'created',\n",
       " 'by',\n",
       " 'Alan',\n",
       " 'Moore',\n",
       " '-LRB-',\n",
       " 'and',\n",
       " 'Eddie',\n",
       " 'Campbell',\n",
       " '-RRB-',\n",
       " ',',\n",
       " 'who',\n",
       " 'brought',\n",
       " 'the',\n",
       " 'medium',\n",
       " 'to',\n",
       " 'a',\n",
       " 'whole',\n",
       " 'new',\n",
       " 'level',\n",
       " 'in',\n",
       " 'the',\n",
       " 'mid',\n",
       " \"'\",\n",
       " '80s',\n",
       " 'with',\n",
       " 'a',\n",
       " '12-part',\n",
       " 'series',\n",
       " 'called',\n",
       " 'The',\n",
       " 'Watchmen',\n",
       " '.',\n",
       " 'To',\n",
       " 'say',\n",
       " 'Moore',\n",
       " 'and',\n",
       " 'Campbell',\n",
       " 'thoroughly',\n",
       " 'researched',\n",
       " 'the',\n",
       " 'subject',\n",
       " 'of',\n",
       " 'Jack',\n",
       " 'the',\n",
       " 'Ripper',\n",
       " 'would',\n",
       " 'be',\n",
       " 'like',\n",
       " 'saying',\n",
       " 'Michael',\n",
       " 'Jackson',\n",
       " 'is',\n",
       " 'starting',\n",
       " 'to',\n",
       " 'look',\n",
       " 'a',\n",
       " 'little',\n",
       " 'odd',\n",
       " '.',\n",
       " 'The',\n",
       " 'book',\n",
       " '-LRB-',\n",
       " 'or',\n",
       " '``',\n",
       " 'graphic',\n",
       " 'novel',\n",
       " ',',\n",
       " \"''\",\n",
       " 'if',\n",
       " 'you',\n",
       " 'will',\n",
       " '-RRB-',\n",
       " 'is',\n",
       " 'over',\n",
       " '500',\n",
       " 'pages',\n",
       " 'long',\n",
       " 'and',\n",
       " 'includes',\n",
       " 'nearly',\n",
       " '30',\n",
       " 'more',\n",
       " 'that',\n",
       " 'consist',\n",
       " 'of',\n",
       " 'nothing',\n",
       " 'but',\n",
       " 'footnotes',\n",
       " '.',\n",
       " 'In',\n",
       " 'other',\n",
       " 'words',\n",
       " ',',\n",
       " 'do',\n",
       " \"n't\",\n",
       " 'dismiss',\n",
       " 'this',\n",
       " 'film',\n",
       " 'because',\n",
       " 'of',\n",
       " 'its',\n",
       " 'source',\n",
       " '.',\n",
       " 'If',\n",
       " 'you',\n",
       " 'can',\n",
       " 'get',\n",
       " 'past',\n",
       " 'the',\n",
       " 'whole',\n",
       " 'comic',\n",
       " 'book',\n",
       " 'thing',\n",
       " ',',\n",
       " 'you',\n",
       " 'might',\n",
       " 'find',\n",
       " 'another',\n",
       " 'stumbling',\n",
       " 'block',\n",
       " 'in',\n",
       " 'From',\n",
       " 'Hell',\n",
       " \"'s\",\n",
       " 'directors',\n",
       " ',',\n",
       " 'Albert',\n",
       " 'and',\n",
       " 'Allen',\n",
       " 'Hughes',\n",
       " '.',\n",
       " 'Getting',\n",
       " 'the',\n",
       " 'Hughes',\n",
       " 'brothers',\n",
       " 'to',\n",
       " 'direct',\n",
       " 'this',\n",
       " 'seems',\n",
       " 'almost',\n",
       " 'as',\n",
       " 'ludicrous',\n",
       " 'as',\n",
       " 'casting',\n",
       " 'Carrot',\n",
       " 'Top',\n",
       " 'in',\n",
       " ',',\n",
       " 'well',\n",
       " ',',\n",
       " 'anything',\n",
       " ',',\n",
       " 'but',\n",
       " 'riddle',\n",
       " 'me',\n",
       " 'this',\n",
       " ':',\n",
       " 'Who',\n",
       " 'better',\n",
       " 'to',\n",
       " 'direct',\n",
       " 'a',\n",
       " 'film',\n",
       " 'that',\n",
       " \"'s\",\n",
       " 'set',\n",
       " 'in',\n",
       " 'the',\n",
       " 'ghetto',\n",
       " 'and',\n",
       " 'features',\n",
       " 'really',\n",
       " 'violent',\n",
       " 'street',\n",
       " 'crime',\n",
       " 'than',\n",
       " 'the',\n",
       " 'mad',\n",
       " 'geniuses',\n",
       " 'behind',\n",
       " 'Menace',\n",
       " 'II',\n",
       " 'Society',\n",
       " '?',\n",
       " 'The',\n",
       " 'ghetto',\n",
       " 'in',\n",
       " 'question',\n",
       " 'is',\n",
       " ',',\n",
       " 'of',\n",
       " 'course',\n",
       " ',',\n",
       " 'Whitechapel',\n",
       " 'in',\n",
       " '1888',\n",
       " 'London',\n",
       " \"'s\",\n",
       " 'East',\n",
       " 'End',\n",
       " '.',\n",
       " 'It',\n",
       " \"'s\",\n",
       " 'a',\n",
       " 'filthy',\n",
       " ',',\n",
       " 'sooty',\n",
       " 'place',\n",
       " 'where',\n",
       " 'the',\n",
       " 'whores',\n",
       " '-LRB-',\n",
       " 'called',\n",
       " '``',\n",
       " 'unfortunates',\n",
       " \"''\",\n",
       " '-RRB-',\n",
       " 'are',\n",
       " 'starting',\n",
       " 'to',\n",
       " 'get',\n",
       " 'a',\n",
       " 'little',\n",
       " 'nervous',\n",
       " 'about',\n",
       " 'this',\n",
       " 'mysterious',\n",
       " 'psychopath',\n",
       " 'who',\n",
       " 'has',\n",
       " 'been',\n",
       " 'carving',\n",
       " 'through',\n",
       " 'their',\n",
       " 'profession',\n",
       " 'with',\n",
       " 'surgical',\n",
       " 'precision',\n",
       " '.',\n",
       " 'When',\n",
       " 'the',\n",
       " 'first',\n",
       " 'stiff',\n",
       " 'turns',\n",
       " 'up',\n",
       " ',',\n",
       " 'copper',\n",
       " 'Peter',\n",
       " 'Godley',\n",
       " '-LRB-',\n",
       " 'Robbie',\n",
       " 'Coltrane',\n",
       " ',',\n",
       " 'The',\n",
       " 'World',\n",
       " 'is',\n",
       " 'Not',\n",
       " 'Enough',\n",
       " '-RRB-',\n",
       " 'calls',\n",
       " 'in',\n",
       " 'Inspector',\n",
       " 'Frederick',\n",
       " 'Abberline',\n",
       " '-LRB-',\n",
       " 'Johnny',\n",
       " 'Depp',\n",
       " ',',\n",
       " 'Blow',\n",
       " '-RRB-',\n",
       " 'to',\n",
       " 'crack',\n",
       " 'the',\n",
       " 'case',\n",
       " '.',\n",
       " 'Abberline',\n",
       " ',',\n",
       " 'a',\n",
       " 'widower',\n",
       " ',',\n",
       " 'has',\n",
       " 'prophetic',\n",
       " 'dreams',\n",
       " 'he',\n",
       " 'unsuccessfully',\n",
       " 'tries',\n",
       " 'to',\n",
       " 'quell',\n",
       " 'with',\n",
       " 'copious',\n",
       " 'amounts',\n",
       " 'of',\n",
       " 'absinthe',\n",
       " 'and',\n",
       " 'opium',\n",
       " '.',\n",
       " 'Upon',\n",
       " 'arriving',\n",
       " 'in',\n",
       " 'Whitechapel',\n",
       " ',',\n",
       " 'he',\n",
       " 'befriends',\n",
       " 'an',\n",
       " 'unfortunate',\n",
       " 'named',\n",
       " 'Mary',\n",
       " 'Kelly',\n",
       " '-LRB-',\n",
       " 'Heather',\n",
       " 'Graham',\n",
       " ',',\n",
       " 'Say',\n",
       " 'It',\n",
       " 'Is',\n",
       " \"n't\",\n",
       " 'So',\n",
       " '-RRB-',\n",
       " 'and',\n",
       " 'proceeds',\n",
       " 'to',\n",
       " 'investigate',\n",
       " 'the',\n",
       " 'horribly',\n",
       " 'gruesome',\n",
       " 'crimes',\n",
       " 'that',\n",
       " 'even',\n",
       " 'the',\n",
       " 'police',\n",
       " 'surgeon',\n",
       " 'ca',\n",
       " \"n't\",\n",
       " 'stomach',\n",
       " '.',\n",
       " 'I',\n",
       " 'do',\n",
       " \"n't\",\n",
       " 'think',\n",
       " 'anyone',\n",
       " 'needs',\n",
       " 'to',\n",
       " 'be',\n",
       " 'briefed',\n",
       " 'on',\n",
       " 'Jack',\n",
       " 'the',\n",
       " 'Ripper',\n",
       " ',',\n",
       " 'so',\n",
       " 'I',\n",
       " 'wo',\n",
       " \"n't\",\n",
       " 'go',\n",
       " 'into',\n",
       " 'the',\n",
       " 'particulars',\n",
       " 'here',\n",
       " ',',\n",
       " 'other',\n",
       " 'than',\n",
       " 'to',\n",
       " 'say',\n",
       " 'Moore',\n",
       " 'and',\n",
       " 'Campbell',\n",
       " 'have',\n",
       " 'a',\n",
       " 'unique',\n",
       " 'and',\n",
       " 'interesting',\n",
       " 'theory',\n",
       " 'about',\n",
       " 'both',\n",
       " 'the',\n",
       " 'identity',\n",
       " 'of',\n",
       " 'the',\n",
       " 'killer',\n",
       " 'and',\n",
       " 'the',\n",
       " 'reasons',\n",
       " 'he',\n",
       " 'chooses',\n",
       " 'to',\n",
       " 'slay',\n",
       " '.',\n",
       " 'In',\n",
       " 'the',\n",
       " 'comic',\n",
       " ',',\n",
       " 'they',\n",
       " 'do',\n",
       " \"n't\",\n",
       " 'bother',\n",
       " 'cloaking',\n",
       " 'the',\n",
       " 'identity',\n",
       " 'of',\n",
       " 'the',\n",
       " 'Ripper',\n",
       " ',',\n",
       " 'but',\n",
       " 'screenwriters',\n",
       " 'Terry',\n",
       " 'Hayes',\n",
       " '-LRB-',\n",
       " 'Vertical',\n",
       " 'Limit',\n",
       " '-RRB-',\n",
       " 'and',\n",
       " 'Rafael',\n",
       " 'Yglesias',\n",
       " '-LRB-',\n",
       " 'Les',\n",
       " 'Misrables',\n",
       " '-RRB-',\n",
       " 'do',\n",
       " 'a',\n",
       " 'good',\n",
       " 'job',\n",
       " 'of',\n",
       " 'keeping',\n",
       " 'him',\n",
       " 'hidden',\n",
       " 'from',\n",
       " 'viewers',\n",
       " 'until',\n",
       " 'the',\n",
       " 'very',\n",
       " 'end',\n",
       " '.',\n",
       " 'It',\n",
       " \"'s\",\n",
       " 'funny',\n",
       " 'to',\n",
       " 'watch',\n",
       " 'the',\n",
       " 'locals',\n",
       " 'blindly',\n",
       " 'point',\n",
       " 'the',\n",
       " 'finger',\n",
       " 'of',\n",
       " 'blame',\n",
       " 'at',\n",
       " 'Jews',\n",
       " 'and',\n",
       " 'Indians',\n",
       " 'because',\n",
       " ',',\n",
       " 'after',\n",
       " 'all',\n",
       " ',',\n",
       " 'an',\n",
       " 'Englishman',\n",
       " 'could',\n",
       " 'never',\n",
       " 'be',\n",
       " 'capable',\n",
       " 'of',\n",
       " 'committing',\n",
       " 'such',\n",
       " 'ghastly',\n",
       " 'acts',\n",
       " '.',\n",
       " 'And',\n",
       " 'From',\n",
       " 'Hell',\n",
       " \"'s\",\n",
       " 'ending',\n",
       " 'had',\n",
       " 'me',\n",
       " 'whistling',\n",
       " 'the',\n",
       " 'Stonecutters',\n",
       " 'song',\n",
       " 'from',\n",
       " 'The',\n",
       " 'Simpsons',\n",
       " 'for',\n",
       " 'days',\n",
       " '-LRB-',\n",
       " '``',\n",
       " 'Who',\n",
       " 'holds',\n",
       " 'back',\n",
       " 'the',\n",
       " 'electric',\n",
       " 'car/who',\n",
       " 'made',\n",
       " 'Steve',\n",
       " 'Guttenberg',\n",
       " 'a',\n",
       " 'star',\n",
       " '?',\n",
       " \"''\",\n",
       " '-RRB-',\n",
       " '.',\n",
       " 'Do',\n",
       " \"n't\",\n",
       " 'worry-it',\n",
       " \"'ll\",\n",
       " 'all',\n",
       " 'make',\n",
       " 'sense',\n",
       " 'when',\n",
       " 'you',\n",
       " 'see',\n",
       " 'it',\n",
       " '.',\n",
       " 'Now',\n",
       " 'onto',\n",
       " 'From',\n",
       " 'Hell',\n",
       " \"'s\",\n",
       " 'appearance',\n",
       " ':',\n",
       " 'It',\n",
       " \"'s\",\n",
       " 'certainly',\n",
       " 'dark',\n",
       " 'and',\n",
       " 'bleak',\n",
       " 'enough',\n",
       " ',',\n",
       " 'and',\n",
       " 'it',\n",
       " \"'s\",\n",
       " 'surprising',\n",
       " 'to',\n",
       " 'see',\n",
       " 'how',\n",
       " 'much',\n",
       " 'more',\n",
       " 'it',\n",
       " 'looks',\n",
       " 'like',\n",
       " 'a',\n",
       " 'Tim',\n",
       " 'Burton',\n",
       " 'film',\n",
       " 'than',\n",
       " 'Planet',\n",
       " 'of',\n",
       " 'the',\n",
       " 'Apes',\n",
       " 'did',\n",
       " '-LRB-',\n",
       " 'at',\n",
       " 'times',\n",
       " ',',\n",
       " 'it',\n",
       " 'seems',\n",
       " 'like',\n",
       " 'Sleepy',\n",
       " 'Hollow',\n",
       " '2',\n",
       " '-RRB-',\n",
       " '.',\n",
       " 'The',\n",
       " 'print',\n",
       " 'I',\n",
       " 'saw',\n",
       " 'was',\n",
       " \"n't\",\n",
       " 'completely',\n",
       " 'finished',\n",
       " '-LRB-',\n",
       " 'both',\n",
       " 'color',\n",
       " 'and',\n",
       " 'music',\n",
       " 'had',\n",
       " 'not',\n",
       " 'been',\n",
       " 'finalized',\n",
       " ',',\n",
       " 'so',\n",
       " 'no',\n",
       " 'comments',\n",
       " 'about',\n",
       " 'Marilyn',\n",
       " 'Manson',\n",
       " '-RRB-',\n",
       " ',',\n",
       " 'but',\n",
       " 'cinematographer',\n",
       " 'Peter',\n",
       " 'Deming',\n",
       " '-LRB-',\n",
       " 'Do',\n",
       " \"n't\",\n",
       " 'Say',\n",
       " 'a',\n",
       " 'Word',\n",
       " '-RRB-',\n",
       " 'ably',\n",
       " 'captures',\n",
       " 'the',\n",
       " 'dreariness',\n",
       " 'of',\n",
       " 'Victorian-era',\n",
       " 'London',\n",
       " 'and',\n",
       " 'helped',\n",
       " 'make',\n",
       " 'the',\n",
       " 'flashy',\n",
       " 'killing',\n",
       " 'scenes',\n",
       " 'remind',\n",
       " 'me',\n",
       " 'of',\n",
       " 'the',\n",
       " 'crazy',\n",
       " 'flashbacks',\n",
       " 'in',\n",
       " 'Twin',\n",
       " 'Peaks',\n",
       " ',',\n",
       " 'even',\n",
       " 'though',\n",
       " 'the',\n",
       " 'violence',\n",
       " 'in',\n",
       " 'the',\n",
       " 'film',\n",
       " 'pales',\n",
       " 'in',\n",
       " 'comparison',\n",
       " 'to',\n",
       " 'that',\n",
       " 'in',\n",
       " 'the',\n",
       " 'black-and-white',\n",
       " 'comic',\n",
       " '.',\n",
       " 'Oscar',\n",
       " 'winner',\n",
       " 'Martin',\n",
       " 'Childs',\n",
       " \"'\",\n",
       " '-LRB-',\n",
       " 'Shakespeare',\n",
       " 'in',\n",
       " 'Love',\n",
       " '-RRB-',\n",
       " 'production',\n",
       " 'design',\n",
       " 'turns',\n",
       " 'the',\n",
       " 'original',\n",
       " 'Prague',\n",
       " 'surroundings',\n",
       " 'into',\n",
       " 'one',\n",
       " 'creepy',\n",
       " 'place',\n",
       " '.',\n",
       " 'Even',\n",
       " 'the',\n",
       " 'acting',\n",
       " 'in',\n",
       " 'From',\n",
       " 'Hell',\n",
       " 'is',\n",
       " 'solid',\n",
       " ',',\n",
       " 'with',\n",
       " 'the',\n",
       " 'dreamy',\n",
       " 'Depp',\n",
       " 'turning',\n",
       " 'in',\n",
       " 'a',\n",
       " 'typically',\n",
       " 'strong',\n",
       " 'performance',\n",
       " 'and',\n",
       " 'deftly',\n",
       " 'handling',\n",
       " 'a',\n",
       " 'British',\n",
       " 'accent',\n",
       " '.',\n",
       " 'Ians',\n",
       " 'Holm',\n",
       " '-LRB-',\n",
       " 'Joe',\n",
       " 'Gould',\n",
       " \"'s\",\n",
       " 'Secret',\n",
       " '-RRB-',\n",
       " 'and',\n",
       " 'Richardson',\n",
       " '-LRB-',\n",
       " '102',\n",
       " 'Dalmatians',\n",
       " '-RRB-',\n",
       " 'log',\n",
       " 'in',\n",
       " 'great',\n",
       " 'supporting',\n",
       " 'roles',\n",
       " ',',\n",
       " 'but',\n",
       " 'the',\n",
       " 'big',\n",
       " 'surprise',\n",
       " 'here',\n",
       " 'is',\n",
       " 'Graham',\n",
       " '.',\n",
       " 'I',\n",
       " 'cringed',\n",
       " 'the',\n",
       " 'first',\n",
       " 'time',\n",
       " 'she',\n",
       " 'opened',\n",
       " 'her',\n",
       " 'mouth',\n",
       " ',',\n",
       " 'imagining',\n",
       " 'her',\n",
       " 'attempt',\n",
       " 'at',\n",
       " 'an',\n",
       " 'Irish',\n",
       " 'accent',\n",
       " ',',\n",
       " 'but',\n",
       " 'it',\n",
       " 'actually',\n",
       " 'was',\n",
       " \"n't\",\n",
       " 'half',\n",
       " 'bad',\n",
       " '.',\n",
       " 'The',\n",
       " 'film',\n",
       " ',',\n",
       " 'however',\n",
       " ',',\n",
       " 'is',\n",
       " 'all',\n",
       " 'good',\n",
       " '.']"
      ]
     },
     "execution_count": 4,
     "metadata": {},
     "output_type": "execute_result"
    }
   ],
   "source": [
    "data.x_data[0]"
   ]
  },
  {
   "cell_type": "code",
   "execution_count": 4,
   "metadata": {},
   "outputs": [
    {
     "name": "stderr",
     "output_type": "stream",
     "text": [
      "100%|██████████| 10/10 [01:18<00:00,  7.80s/it]\n"
     ]
    }
   ],
   "source": [
    "accuracies = Metrics.roundRobinCV(data, 10, NBModel, [[4,8], ['uni','bi'], 0.5])"
   ]
  },
  {
   "cell_type": "markdown",
   "metadata": {},
   "source": [
    "## Parameter tuning (computationally heavy)"
   ]
  },
  {
   "cell_type": "code",
   "execution_count": 11,
   "metadata": {},
   "outputs": [
    {
     "name": "stderr",
     "output_type": "stream",
     "text": [
      "100%|██████████| 10/10 [01:32<00:00,  9.27s/it]\n",
      "100%|██████████| 10/10 [01:24<00:00,  8.49s/it]\n",
      "100%|██████████| 10/10 [01:27<00:00,  8.74s/it]\n",
      "100%|██████████| 10/10 [01:26<00:00,  8.62s/it]\n",
      "100%|██████████| 10/10 [01:21<00:00,  8.12s/it]\n",
      "100%|██████████| 10/10 [01:22<00:00,  8.25s/it]\n",
      "100%|██████████| 10/10 [01:30<00:00,  9.05s/it]\n",
      "100%|██████████| 10/10 [01:28<00:00,  8.89s/it]\n",
      "100%|██████████| 10/10 [01:25<00:00,  8.60s/it]\n",
      "100%|██████████| 10/10 [01:25<00:00,  8.58s/it]\n",
      "100%|██████████| 10/10 [01:29<00:00,  8.96s/it]\n",
      "100%|██████████| 10/10 [01:26<00:00,  8.66s/it]\n",
      "100%|██████████| 10/10 [01:26<00:00,  8.65s/it]\n",
      "100%|██████████| 10/10 [01:19<00:00,  7.96s/it]\n",
      "100%|██████████| 10/10 [01:27<00:00,  8.71s/it]\n",
      "  0%|          | 0/10 [00:02<?, ?it/s]\n"
     ]
    },
    {
     "ename": "KeyboardInterrupt",
     "evalue": "",
     "output_type": "error",
     "traceback": [
      "\u001b[0;31m---------------------------------------------------------------------------\u001b[0m",
      "\u001b[0;31mKeyboardInterrupt\u001b[0m                         Traceback (most recent call last)",
      "\u001b[0;32m<ipython-input-11-2f3d99906e72>\u001b[0m in \u001b[0;36m<module>\u001b[0;34m()\u001b[0m\n\u001b[1;32m      3\u001b[0m     \u001b[0;32mfor\u001b[0m \u001b[0mthr_2\u001b[0m \u001b[0;32min\u001b[0m \u001b[0;34m[\u001b[0m\u001b[0;36m2\u001b[0m\u001b[0;34m,\u001b[0m\u001b[0;36m4\u001b[0m\u001b[0;34m,\u001b[0m\u001b[0;36m8\u001b[0m\u001b[0;34m,\u001b[0m\u001b[0;36m12\u001b[0m\u001b[0;34m]\u001b[0m\u001b[0;34m:\u001b[0m\u001b[0;34m\u001b[0m\u001b[0;34m\u001b[0m\u001b[0m\n\u001b[1;32m      4\u001b[0m         \u001b[0;32mfor\u001b[0m \u001b[0msmth\u001b[0m \u001b[0;32min\u001b[0m \u001b[0;34m[\u001b[0m\u001b[0;36m0.25\u001b[0m\u001b[0;34m,\u001b[0m \u001b[0;36m0.5\u001b[0m\u001b[0;34m,\u001b[0m \u001b[0;36m1\u001b[0m\u001b[0;34m,\u001b[0m \u001b[0;36m2\u001b[0m\u001b[0;34m]\u001b[0m\u001b[0;34m:\u001b[0m\u001b[0;34m\u001b[0m\u001b[0;34m\u001b[0m\u001b[0m\n\u001b[0;32m----> 5\u001b[0;31m             \u001b[0maccuracies\u001b[0m \u001b[0;34m=\u001b[0m \u001b[0mMetrics\u001b[0m\u001b[0;34m.\u001b[0m\u001b[0mroundRobinCV\u001b[0m\u001b[0;34m(\u001b[0m\u001b[0mfile_dir\u001b[0m\u001b[0;34m,\u001b[0m \u001b[0;36m10\u001b[0m\u001b[0;34m,\u001b[0m \u001b[0mNBModel\u001b[0m\u001b[0;34m,\u001b[0m \u001b[0;34m[\u001b[0m\u001b[0;34m[\u001b[0m\u001b[0mthr_1\u001b[0m\u001b[0;34m,\u001b[0m\u001b[0mthr_2\u001b[0m\u001b[0;34m]\u001b[0m\u001b[0;34m,\u001b[0m \u001b[0;34m[\u001b[0m\u001b[0;34m'uni'\u001b[0m\u001b[0;34m,\u001b[0m\u001b[0;34m'bi'\u001b[0m\u001b[0;34m]\u001b[0m\u001b[0;34m,\u001b[0m \u001b[0msmth\u001b[0m\u001b[0;34m]\u001b[0m\u001b[0;34m)\u001b[0m\u001b[0;34m\u001b[0m\u001b[0;34m\u001b[0m\u001b[0m\n\u001b[0m\u001b[1;32m      6\u001b[0m             \u001b[0mresults\u001b[0m\u001b[0;34m[\u001b[0m\u001b[0;34m't1='\u001b[0m\u001b[0;34m+\u001b[0m\u001b[0mstr\u001b[0m\u001b[0;34m(\u001b[0m\u001b[0mthr_1\u001b[0m\u001b[0;34m)\u001b[0m\u001b[0;34m+\u001b[0m\u001b[0;34m';t2='\u001b[0m\u001b[0;34m+\u001b[0m\u001b[0mstr\u001b[0m\u001b[0;34m(\u001b[0m\u001b[0mthr_2\u001b[0m\u001b[0;34m)\u001b[0m\u001b[0;34m+\u001b[0m\u001b[0;34m';s='\u001b[0m\u001b[0;34m+\u001b[0m\u001b[0mstr\u001b[0m\u001b[0;34m(\u001b[0m\u001b[0msmth\u001b[0m\u001b[0;34m)\u001b[0m\u001b[0;34m]\u001b[0m \u001b[0;34m=\u001b[0m \u001b[0mnp\u001b[0m\u001b[0;34m.\u001b[0m\u001b[0mmean\u001b[0m\u001b[0;34m(\u001b[0m\u001b[0mnp\u001b[0m\u001b[0;34m.\u001b[0m\u001b[0marray\u001b[0m\u001b[0;34m(\u001b[0m\u001b[0maccuracies\u001b[0m\u001b[0;34m)\u001b[0m\u001b[0;34m)\u001b[0m\u001b[0;34m\u001b[0m\u001b[0;34m\u001b[0m\u001b[0m\n",
      "\u001b[0;32m~/Documents/cambridge/MLMI/nlp/coursework/nlp/metrics.py\u001b[0m in \u001b[0;36mroundRobinCV\u001b[0;34m(file_dir, N, model, model_params)\u001b[0m\n\u001b[1;32m     81\u001b[0m                     \u001b[0my_test\u001b[0m \u001b[0;34m+=\u001b[0m \u001b[0mdata_splits\u001b[0m\u001b[0;34m[\u001b[0m\u001b[0mj\u001b[0m\u001b[0;34m]\u001b[0m\u001b[0;34m.\u001b[0m\u001b[0my_train\u001b[0m\u001b[0;34m\u001b[0m\u001b[0;34m\u001b[0m\u001b[0m\n\u001b[1;32m     82\u001b[0m \u001b[0;34m\u001b[0m\u001b[0m\n\u001b[0;32m---> 83\u001b[0;31m             \u001b[0mtrained_model\u001b[0m  \u001b[0;34m=\u001b[0m \u001b[0mmodel\u001b[0m\u001b[0;34m(\u001b[0m\u001b[0mx_train\u001b[0m\u001b[0;34m,\u001b[0m \u001b[0my_train\u001b[0m\u001b[0;34m,\u001b[0m \u001b[0;34m*\u001b[0m\u001b[0mmodel_params\u001b[0m\u001b[0;34m)\u001b[0m\u001b[0;34m\u001b[0m\u001b[0;34m\u001b[0m\u001b[0m\n\u001b[0m\u001b[1;32m     84\u001b[0m             \u001b[0mpredictions\u001b[0m\u001b[0;34m,\u001b[0m \u001b[0m_\u001b[0m \u001b[0;34m=\u001b[0m \u001b[0mtrained_model\u001b[0m\u001b[0;34m.\u001b[0m\u001b[0mpredict\u001b[0m\u001b[0;34m(\u001b[0m\u001b[0mx_test\u001b[0m\u001b[0;34m)\u001b[0m\u001b[0;34m\u001b[0m\u001b[0;34m\u001b[0m\u001b[0m\n\u001b[1;32m     85\u001b[0m             \u001b[0maccuracies\u001b[0m\u001b[0;34m.\u001b[0m\u001b[0mappend\u001b[0m\u001b[0;34m(\u001b[0m\u001b[0mMetrics\u001b[0m\u001b[0;34m.\u001b[0m\u001b[0mgetAccuracy\u001b[0m\u001b[0;34m(\u001b[0m\u001b[0mpredictions\u001b[0m\u001b[0;34m,\u001b[0m \u001b[0my_test\u001b[0m\u001b[0;34m)\u001b[0m\u001b[0;34m)\u001b[0m\u001b[0;34m\u001b[0m\u001b[0;34m\u001b[0m\u001b[0m\n",
      "\u001b[0;32m~/Documents/cambridge/MLMI/nlp/coursework/nlp/model.py\u001b[0m in \u001b[0;36m__init__\u001b[0;34m(self, x_train, y_train, threshold, grams, smoothing)\u001b[0m\n\u001b[1;32m     10\u001b[0m         \u001b[0mself\u001b[0m\u001b[0;34m.\u001b[0m\u001b[0mgrams\u001b[0m     \u001b[0;34m=\u001b[0m \u001b[0mgrams\u001b[0m\u001b[0;34m\u001b[0m\u001b[0;34m\u001b[0m\u001b[0m\n\u001b[1;32m     11\u001b[0m         \u001b[0mself\u001b[0m\u001b[0;34m.\u001b[0m\u001b[0msmoothing\u001b[0m \u001b[0;34m=\u001b[0m \u001b[0msmoothing\u001b[0m\u001b[0;34m\u001b[0m\u001b[0;34m\u001b[0m\u001b[0m\n\u001b[0;32m---> 12\u001b[0;31m         \u001b[0mself\u001b[0m\u001b[0;34m.\u001b[0m\u001b[0mmodel\u001b[0m     \u001b[0;34m=\u001b[0m \u001b[0mNBModel\u001b[0m\u001b[0;34m.\u001b[0m\u001b[0mtrainNB\u001b[0m\u001b[0;34m(\u001b[0m\u001b[0mx_train\u001b[0m\u001b[0;34m,\u001b[0m \u001b[0my_train\u001b[0m\u001b[0;34m,\u001b[0m \u001b[0mthreshold\u001b[0m\u001b[0;34m,\u001b[0m \u001b[0mgrams\u001b[0m \u001b[0;34m=\u001b[0m \u001b[0;34m[\u001b[0m\u001b[0;34m'uni'\u001b[0m\u001b[0;34m,\u001b[0m \u001b[0;34m'bi'\u001b[0m\u001b[0;34m]\u001b[0m\u001b[0;34m)\u001b[0m\u001b[0;34m\u001b[0m\u001b[0;34m\u001b[0m\u001b[0m\n\u001b[0m\u001b[1;32m     13\u001b[0m \u001b[0;34m\u001b[0m\u001b[0m\n\u001b[1;32m     14\u001b[0m \u001b[0;34m\u001b[0m\u001b[0m\n",
      "\u001b[0;32m~/Documents/cambridge/MLMI/nlp/coursework/nlp/model.py\u001b[0m in \u001b[0;36mtrainNB\u001b[0;34m(x_train, y_train, threshold, grams)\u001b[0m\n\u001b[1;32m     85\u001b[0m             \u001b[0;31m# Get documents for that class\u001b[0m\u001b[0;34m\u001b[0m\u001b[0;34m\u001b[0m\u001b[0;34m\u001b[0m\u001b[0m\n\u001b[1;32m     86\u001b[0m             \u001b[0mcl_docs\u001b[0m   \u001b[0;34m=\u001b[0m \u001b[0;34m[\u001b[0m\u001b[0mx_train\u001b[0m\u001b[0;34m[\u001b[0m\u001b[0mi\u001b[0m\u001b[0;34m]\u001b[0m \u001b[0;32mfor\u001b[0m \u001b[0mi\u001b[0m \u001b[0;32min\u001b[0m \u001b[0mnp\u001b[0m\u001b[0;34m.\u001b[0m\u001b[0mwhere\u001b[0m\u001b[0;34m(\u001b[0m\u001b[0mnp\u001b[0m\u001b[0;34m.\u001b[0m\u001b[0marray\u001b[0m\u001b[0;34m(\u001b[0m\u001b[0my_train\u001b[0m\u001b[0;34m)\u001b[0m \u001b[0;34m==\u001b[0m \u001b[0mcl\u001b[0m\u001b[0;34m)\u001b[0m\u001b[0;34m[\u001b[0m\u001b[0;36m0\u001b[0m\u001b[0;34m]\u001b[0m\u001b[0;34m.\u001b[0m\u001b[0mtolist\u001b[0m\u001b[0;34m(\u001b[0m\u001b[0;34m)\u001b[0m\u001b[0;34m]\u001b[0m\u001b[0;34m\u001b[0m\u001b[0;34m\u001b[0m\u001b[0m\n\u001b[0;32m---> 87\u001b[0;31m             \u001b[0mcounts\u001b[0m    \u001b[0;34m=\u001b[0m \u001b[0mVocabulary\u001b[0m\u001b[0;34m.\u001b[0m\u001b[0mgetFullDict\u001b[0m\u001b[0;34m(\u001b[0m\u001b[0mcl_docs\u001b[0m\u001b[0;34m,\u001b[0m \u001b[0mallgrams\u001b[0m\u001b[0;34m,\u001b[0m \u001b[0mgrams\u001b[0m\u001b[0;34m)\u001b[0m\u001b[0;34m\u001b[0m\u001b[0;34m\u001b[0m\u001b[0m\n\u001b[0m\u001b[1;32m     88\u001b[0m \u001b[0;34m\u001b[0m\u001b[0m\n\u001b[1;32m     89\u001b[0m             \u001b[0;31m# Implement the threshold - get rid of features\u001b[0m\u001b[0;34m\u001b[0m\u001b[0;34m\u001b[0m\u001b[0;34m\u001b[0m\u001b[0m\n",
      "\u001b[0;32m~/Documents/cambridge/MLMI/nlp/coursework/nlp/vocabulary.py\u001b[0m in \u001b[0;36mgetFullDict\u001b[0;34m(document_set, vocabulary, grams)\u001b[0m\n\u001b[1;32m     85\u001b[0m             \u001b[0;32mfor\u001b[0m \u001b[0mwords\u001b[0m \u001b[0;32min\u001b[0m \u001b[0mdoc_vocab\u001b[0m\u001b[0;34m.\u001b[0m\u001b[0mkeys\u001b[0m\u001b[0;34m(\u001b[0m\u001b[0;34m)\u001b[0m\u001b[0;34m:\u001b[0m\u001b[0;34m\u001b[0m\u001b[0;34m\u001b[0m\u001b[0m\n\u001b[1;32m     86\u001b[0m \u001b[0;34m\u001b[0m\u001b[0m\n\u001b[0;32m---> 87\u001b[0;31m                 \u001b[0moccurrences\u001b[0m\u001b[0;34m[\u001b[0m\u001b[0mwords\u001b[0m\u001b[0;34m]\u001b[0m \u001b[0;34m+=\u001b[0m \u001b[0mdoc_vocab\u001b[0m\u001b[0;34m[\u001b[0m\u001b[0mwords\u001b[0m\u001b[0;34m]\u001b[0m\u001b[0;34m\u001b[0m\u001b[0;34m\u001b[0m\u001b[0m\n\u001b[0m\u001b[1;32m     88\u001b[0m \u001b[0;34m\u001b[0m\u001b[0m\n\u001b[1;32m     89\u001b[0m         \u001b[0;32mreturn\u001b[0m \u001b[0moccurrences\u001b[0m\u001b[0;34m\u001b[0m\u001b[0;34m\u001b[0m\u001b[0m\n",
      "\u001b[0;31mKeyboardInterrupt\u001b[0m: "
     ]
    }
   ],
   "source": [
    "results = {}\n",
    "for thr_1 in [2,4,8,12]:\n",
    "    for thr_2 in [2,4,8,12]:\n",
    "        for smth in [0.25, 0.5, 1, 2]:\n",
    "            accuracies = Metrics.roundRobinCV(data, 10, NBModel, [[thr_1,thr_2], ['uni','bi'], smth])\n",
    "            results['t1='+str(thr_1)+';t2='+str(thr_2)+';s='+str(smth)] = np.mean(np.array(accuracies))"
   ]
  },
  {
   "cell_type": "markdown",
   "metadata": {},
   "source": [
    "We can use statistical significance testing by averaging out predictions in a CV split and check statistical different per each split?\n"
   ]
  },
  {
   "cell_type": "markdown",
   "metadata": {},
   "source": [
    "# Beggining of part 2\n"
   ]
  },
  {
   "cell_type": "code",
   "execution_count": null,
   "metadata": {
    "collapsed": true
   },
   "outputs": [],
   "source": [
    "file_dir_our      = \"/Users/igoradamski/Documents/cambridge/MLMI/nlp/coursework/nlp/data\"\n",
    "our_data      = DataHandler(file_dir_our)\n",
    "our_data.readOurData()\n",
    "\n",
    "train, test   = our_data.blind_test()\n",
    "\n",
    "cv_train      = DataHandler()\n",
    "cv_train(train.x_train, train.y_train)"
   ]
  }
 ],
 "metadata": {
  "kernelspec": {
   "display_name": "Python 3",
   "language": "python",
   "name": "python3"
  },
  "language_info": {
   "codemirror_mode": {
    "name": "ipython",
    "version": 3
   },
   "file_extension": ".py",
   "mimetype": "text/x-python",
   "name": "python",
   "nbconvert_exporter": "python",
   "pygments_lexer": "ipython3",
   "version": "3.6.8"
  }
 },
 "nbformat": 4,
 "nbformat_minor": 2
}
